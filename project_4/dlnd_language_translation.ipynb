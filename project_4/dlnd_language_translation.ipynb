{
 "cells": [
  {
   "cell_type": "markdown",
   "metadata": {
    "collapsed": true
   },
   "source": [
    "# Language Translation\n",
    "In this project, you’re going to take a peek into the realm of neural network machine translation.  You’ll be training a sequence to sequence model on a dataset of English and French sentences that can translate new sentences from English to French.\n",
    "## Get the Data\n",
    "Since translating the whole language of English to French will take lots of time to train, we have provided you with a small portion of the English corpus."
   ]
  },
  {
   "cell_type": "code",
   "execution_count": 1,
   "metadata": {
    "collapsed": true
   },
   "outputs": [],
   "source": [
    "\"\"\"\n",
    "DON'T MODIFY ANYTHING IN THIS CELL\n",
    "\"\"\"\n",
    "import helper\n",
    "import problem_unittests as tests\n",
    "\n",
    "source_path = 'data/small_vocab_en'\n",
    "target_path = 'data/small_vocab_fr'\n",
    "source_text = helper.load_data(source_path)\n",
    "target_text = helper.load_data(target_path)"
   ]
  },
  {
   "cell_type": "markdown",
   "metadata": {},
   "source": [
    "## Explore the Data\n",
    "Play around with view_sentence_range to view different parts of the data."
   ]
  },
  {
   "cell_type": "code",
   "execution_count": 2,
   "metadata": {},
   "outputs": [
    {
     "name": "stdout",
     "output_type": "stream",
     "text": [
      "Dataset Stats\n",
      "Roughly the number of unique words: 227\n",
      "Number of sentences: 137861\n",
      "Average number of words in a sentence: 13.225277634719028\n",
      "\n",
      "English sentences 15 to 20:\n",
      "her least liked fruit is the lemon , but his least liked is the grapefruit .\n",
      "california is never cold during february , but it is sometimes freezing in june .\n",
      "china is usually pleasant during autumn , and it is usually quiet in october .\n",
      "paris is never freezing during november , but it is wonderful in october .\n",
      "the united states is never rainy during january , but it is sometimes mild in october .\n",
      "\n",
      "French sentences 15 to 20:\n",
      "son fruit est moins aimé le citron , mais son moins aimé est le pamplemousse .\n",
      "californie ne fait jamais froid en février , mais il est parfois le gel en juin .\n",
      "chine est généralement agréable en automne , et il est généralement calme en octobre .\n",
      "paris est jamais le gel en novembre , mais il est merveilleux en octobre .\n",
      "les états-unis est jamais pluvieux en janvier , mais il est parfois doux en octobre .\n"
     ]
    }
   ],
   "source": [
    "view_sentence_range = (15, 20)\n",
    "\n",
    "\"\"\"\n",
    "DON'T MODIFY ANYTHING IN THIS CELL\n",
    "\"\"\"\n",
    "import numpy as np\n",
    "\n",
    "print('Dataset Stats')\n",
    "print('Roughly the number of unique words: {}'.format(len({word: None for word in source_text.split()})))\n",
    "\n",
    "sentences = source_text.split('\\n')\n",
    "word_counts = [len(sentence.split()) for sentence in sentences]\n",
    "print('Number of sentences: {}'.format(len(sentences)))\n",
    "print('Average number of words in a sentence: {}'.format(np.average(word_counts)))\n",
    "\n",
    "print()\n",
    "print('English sentences {} to {}:'.format(*view_sentence_range))\n",
    "print('\\n'.join(source_text.split('\\n')[view_sentence_range[0]:view_sentence_range[1]]))\n",
    "print()\n",
    "print('French sentences {} to {}:'.format(*view_sentence_range))\n",
    "print('\\n'.join(target_text.split('\\n')[view_sentence_range[0]:view_sentence_range[1]]))"
   ]
  },
  {
   "cell_type": "code",
   "execution_count": 3,
   "metadata": {},
   "outputs": [
    {
     "data": {
      "text/plain": [
       "'new jersey is sometimes quiet during autumn , and it is snowy in april .\\nthe united states is usuall'"
      ]
     },
     "execution_count": 3,
     "metadata": {},
     "output_type": "execute_result"
    }
   ],
   "source": [
    "source_text[:100]"
   ]
  },
  {
   "cell_type": "markdown",
   "metadata": {},
   "source": [
    "## Implement Preprocessing Function\n",
    "### Text to Word Ids\n",
    "As you did with other RNNs, you must turn the text into a number so the computer can understand it. In the function `text_to_ids()`, you'll turn `source_text` and `target_text` from words to ids.  However, you need to add the `<EOS>` word id at the end of `target_text`.  This will help the neural network predict when the sentence should end.\n",
    "\n",
    "You can get the `<EOS>` word id by doing:\n",
    "```python\n",
    "target_vocab_to_int['<EOS>']\n",
    "```\n",
    "You can get other word ids using `source_vocab_to_int` and `target_vocab_to_int`."
   ]
  },
  {
   "cell_type": "code",
   "execution_count": 4,
   "metadata": {},
   "outputs": [
    {
     "name": "stdout",
     "output_type": "stream",
     "text": [
      "Tests Passed\n"
     ]
    }
   ],
   "source": [
    "def text_to_ids(source_text, target_text, source_vocab_to_int, target_vocab_to_int):\n",
    "    \"\"\"\n",
    "    Convert source and target text to proper word ids\n",
    "    :param source_text: String that contains all the source text.\n",
    "    :param target_text: String that contains all the target text.\n",
    "    :param source_vocab_to_int: Dictionary to go from the source words to an id\n",
    "    :param target_vocab_to_int: Dictionary to go from the target words to an id\n",
    "    :return: A tuple of lists (source_id_text, target_id_text)\n",
    "    \"\"\"\n",
    "    # TODO: Implement Function\n",
    "    \n",
    "    source_id_text = []\n",
    "    for line in source_text.lower().split(\"\\n\"):\n",
    "        ids = []\n",
    "        for word in line.split():\n",
    "            ids.append(source_vocab_to_int[word])\n",
    "        source_id_text.append(ids)        \n",
    "    \n",
    "    target_id_text = []\n",
    "    for line in target_text.lower().split(\"\\n\"):\n",
    "        ids = []\n",
    "        for word in line.split():\n",
    "            ids.append(target_vocab_to_int[word])\n",
    "        ids.append(target_vocab_to_int['<EOS>'])\n",
    "        target_id_text.append(ids)\n",
    "        \n",
    "    return (source_id_text, target_id_text)\n",
    "\n",
    "\"\"\"\n",
    "DON'T MODIFY ANYTHING IN THIS CELL THAT IS BELOW THIS LINE\n",
    "\"\"\"\n",
    "tests.test_text_to_ids(text_to_ids)"
   ]
  },
  {
   "cell_type": "markdown",
   "metadata": {},
   "source": [
    "### Preprocess all the data and save it\n",
    "Running the code cell below will preprocess all the data and save it to file."
   ]
  },
  {
   "cell_type": "code",
   "execution_count": 5,
   "metadata": {
    "collapsed": true
   },
   "outputs": [],
   "source": [
    "\"\"\"\n",
    "DON'T MODIFY ANYTHING IN THIS CELL\n",
    "\"\"\"\n",
    "helper.preprocess_and_save_data(source_path, target_path, text_to_ids)"
   ]
  },
  {
   "cell_type": "markdown",
   "metadata": {},
   "source": [
    "# Check Point\n",
    "This is your first checkpoint. If you ever decide to come back to this notebook or have to restart the notebook, you can start from here. The preprocessed data has been saved to disk."
   ]
  },
  {
   "cell_type": "code",
   "execution_count": 6,
   "metadata": {
    "collapsed": true
   },
   "outputs": [],
   "source": [
    "\"\"\"\n",
    "DON'T MODIFY ANYTHING IN THIS CELL\n",
    "\"\"\"\n",
    "import numpy as np\n",
    "import helper\n",
    "import problem_unittests as tests\n",
    "\n",
    "(source_int_text, target_int_text), (source_vocab_to_int, target_vocab_to_int), _ = helper.load_preprocess()"
   ]
  },
  {
   "cell_type": "markdown",
   "metadata": {},
   "source": [
    "### Check the Version of TensorFlow and Access to GPU\n",
    "This will check to make sure you have the correct version of TensorFlow and access to a GPU"
   ]
  },
  {
   "cell_type": "code",
   "execution_count": 7,
   "metadata": {},
   "outputs": [
    {
     "name": "stdout",
     "output_type": "stream",
     "text": [
      "TensorFlow Version: 1.2.0-rc1\n",
      "Default GPU Device: /gpu:0\n"
     ]
    }
   ],
   "source": [
    "\"\"\"\n",
    "DON'T MODIFY ANYTHING IN THIS CELL\n",
    "\"\"\"\n",
    "from distutils.version import LooseVersion\n",
    "import warnings\n",
    "import tensorflow as tf\n",
    "from tensorflow.python.layers.core import Dense\n",
    "\n",
    "# Check TensorFlow Version\n",
    "assert LooseVersion(tf.__version__) >= LooseVersion('1.1'), 'Please use TensorFlow version 1.1 or newer'\n",
    "print('TensorFlow Version: {}'.format(tf.__version__))\n",
    "\n",
    "# Check for a GPU\n",
    "if not tf.test.gpu_device_name():\n",
    "    warnings.warn('No GPU found. Please use a GPU to train your neural network.')\n",
    "else:\n",
    "    print('Default GPU Device: {}'.format(tf.test.gpu_device_name()))"
   ]
  },
  {
   "cell_type": "markdown",
   "metadata": {},
   "source": [
    "## Build the Neural Network\n",
    "You'll build the components necessary to build a Sequence-to-Sequence model by implementing the following functions below:\n",
    "- `model_inputs`\n",
    "- `process_decoder_input`\n",
    "- `encoding_layer`\n",
    "- `decoding_layer_train`\n",
    "- `decoding_layer_infer`\n",
    "- `decoding_layer`\n",
    "- `seq2seq_model`\n",
    "\n",
    "### Input\n",
    "Implement the `model_inputs()` function to create TF Placeholders for the Neural Network. It should create the following placeholders:\n",
    "\n",
    "- Input text placeholder named \"input\" using the TF Placeholder name parameter with rank 2.\n",
    "- Targets placeholder with rank 2.\n",
    "- Learning rate placeholder with rank 0.\n",
    "- Keep probability placeholder named \"keep_prob\" using the TF Placeholder name parameter with rank 0.\n",
    "- Target sequence length placeholder named \"target_sequence_length\" with rank 1\n",
    "- Max target sequence length tensor named \"max_target_len\" getting its value from applying tf.reduce_max on the target_sequence_length placeholder. Rank 0.\n",
    "- Source sequence length placeholder named \"source_sequence_length\" with rank 1\n",
    "\n",
    "Return the placeholders in the following the tuple (input, targets, learning rate, keep probability, target sequence length, max target sequence length, source sequence length)"
   ]
  },
  {
   "cell_type": "code",
   "execution_count": 8,
   "metadata": {},
   "outputs": [
    {
     "name": "stdout",
     "output_type": "stream",
     "text": [
      "Tests Passed\n"
     ]
    }
   ],
   "source": [
    "def model_inputs():\n",
    "    \"\"\"\n",
    "    Create TF Placeholders for input, targets, learning rate, and lengths of source and target sequences.\n",
    "    :return: Tuple (input, targets, learning rate, keep probability, target sequence length,\n",
    "    max target sequence length, source sequence length)\n",
    "    \"\"\"\n",
    "    input_ = tf.placeholder(tf.int32, shape=(None, None), name='input')\n",
    "    targets = tf.placeholder(tf.int32, shape=(None, None), name='targets')\n",
    "    lr = tf.placeholder(tf.float32, shape=(), name='lr')\n",
    "    keep_prob = tf.placeholder(tf.float32, shape=(), name='keep_prob')\n",
    "    target_sequence_length = tf.placeholder(\n",
    "        tf.int32, shape=(None,), name='target_sequence_length')    \n",
    "    max_target_len = tf.reduce_max(\n",
    "        target_sequence_length, name='max_target_len')\n",
    "    source_sequence_length = tf.placeholder(\n",
    "        tf.int32, shape=(None,), name='source_sequence_length')\n",
    "    \n",
    "    return (input_, targets, lr, keep_prob, target_sequence_length,\n",
    "            max_target_len, source_sequence_length)\n",
    "\n",
    "\n",
    "\"\"\"\n",
    "DON'T MODIFY ANYTHING IN THIS CELL THAT IS BELOW THIS LINE\n",
    "\"\"\"\n",
    "tests.test_model_inputs(model_inputs)"
   ]
  },
  {
   "cell_type": "markdown",
   "metadata": {},
   "source": [
    "### Process Decoder Input\n",
    "Implement `process_decoder_input` by removing the last word id from each batch in `target_data` and concat the GO ID to the begining of each batch."
   ]
  },
  {
   "cell_type": "code",
   "execution_count": 9,
   "metadata": {},
   "outputs": [
    {
     "name": "stdout",
     "output_type": "stream",
     "text": [
      "Tests Passed\n"
     ]
    }
   ],
   "source": [
    "def process_decoder_input(target_data, target_vocab_to_int, batch_size):\n",
    "    \"\"\"\n",
    "    Preprocess target data for encoding\n",
    "    :param target_data: Target Placehoder\n",
    "    :param target_vocab_to_int: Dictionary to go from the target words to an id\n",
    "    :param batch_size: Batch Size\n",
    "    :return: Preprocessed target data\n",
    "    \"\"\"\n",
    "    go = target_vocab_to_int['<GO>']\n",
    "    \n",
    "    data = tf.strided_slice(\n",
    "        input_=target_data, begin=[0, 0], end=[batch_size, -1], strides=[1, 1])    \n",
    "    data = tf.concat([tf.fill([batch_size, 1], go), data], 1)    \n",
    "    return data\n",
    "\n",
    "\"\"\"\n",
    "DON'T MODIFY ANYTHING IN THIS CELL THAT IS BELOW THIS LINE\n",
    "\"\"\"\n",
    "tests.test_process_encoding_input(process_decoder_input)"
   ]
  },
  {
   "cell_type": "markdown",
   "metadata": {},
   "source": [
    "### Encoding\n",
    "Implement `encoding_layer()` to create a Encoder RNN layer:\n",
    " * Embed the encoder input using [`tf.contrib.layers.embed_sequence`](https://www.tensorflow.org/api_docs/python/tf/contrib/layers/embed_sequence)\n",
    " * Construct a [stacked](https://github.com/tensorflow/tensorflow/blob/6947f65a374ebf29e74bb71e36fd82760056d82c/tensorflow/docs_src/tutorials/recurrent.md#stacking-multiple-lstms) [`tf.contrib.rnn.LSTMCell`](https://www.tensorflow.org/api_docs/python/tf/contrib/rnn/LSTMCell) wrapped in a [`tf.contrib.rnn.DropoutWrapper`](https://www.tensorflow.org/api_docs/python/tf/contrib/rnn/DropoutWrapper)\n",
    " * Pass cell and embedded input to [`tf.nn.dynamic_rnn()`](https://www.tensorflow.org/api_docs/python/tf/nn/dynamic_rnn)"
   ]
  },
  {
   "cell_type": "code",
   "execution_count": 10,
   "metadata": {
    "scrolled": false
   },
   "outputs": [
    {
     "name": "stdout",
     "output_type": "stream",
     "text": [
      "Tests Passed\n"
     ]
    }
   ],
   "source": [
    "from imp import reload\n",
    "reload(tests)\n",
    "\n",
    "def encoding_layer(rnn_inputs, rnn_size, num_layers, keep_prob, \n",
    "                   source_sequence_length, source_vocab_size, \n",
    "                   encoding_embedding_size):\n",
    "    \"\"\"\n",
    "    Create encoding layer\n",
    "    :param rnn_inputs: Inputs for the RNN\n",
    "    :param rnn_size: RNN Size\n",
    "    :param num_layers: Number of layers\n",
    "    :param keep_prob: Dropout keep probability\n",
    "    :param source_sequence_length: a list of the lengths of each sequence in the batch\n",
    "    :param source_vocab_size: vocabulary size of source data\n",
    "    :param encoding_embedding_size: embedding size of source data\n",
    "    :return: tuple (RNN output, RNN state)\n",
    "    \"\"\"\n",
    "    embed = tf.contrib.layers.embed_sequence(\n",
    "        rnn_inputs, source_vocab_size, encoding_embedding_size)\n",
    "    lstm = tf.contrib.rnn.LSTMCell(\n",
    "        rnn_size, initializer=tf.random_uniform_initializer(-0.1, 0.1))\n",
    "    dropout = tf.contrib.rnn.DropoutWrapper(lstm, keep_prob)\n",
    "    simple_cells = [tf.contrib.rnn.LSTMCell(\n",
    "        rnn_size, initializer=tf.random_uniform_initializer(-0.1, 0.1))\n",
    "                 for _ in range(num_layers)]\n",
    "    \n",
    "    cell = tf.contrib.rnn.MultiRNNCell(simple_cells)\n",
    "    rnn_output, rnn_state = tf.nn.dynamic_rnn(\n",
    "        cell, embed, sequence_length=source_sequence_length, dtype=tf.float32)\n",
    "    \n",
    "    return rnn_output, rnn_state\n",
    "\n",
    "\n",
    "\"\"\"\n",
    "DON'T MODIFY ANYTHING IN THIS CELL THAT IS BELOW THIS LINE\n",
    "\"\"\"\n",
    "tests.test_encoding_layer(encoding_layer)"
   ]
  },
  {
   "cell_type": "markdown",
   "metadata": {},
   "source": [
    "### Decoding - Training\n",
    "Create a training decoding layer:\n",
    "* Create a [`tf.contrib.seq2seq.TrainingHelper`](https://www.tensorflow.org/api_docs/python/tf/contrib/seq2seq/TrainingHelper) \n",
    "* Create a [`tf.contrib.seq2seq.BasicDecoder`](https://www.tensorflow.org/api_docs/python/tf/contrib/seq2seq/BasicDecoder)\n",
    "* Obtain the decoder outputs from [`tf.contrib.seq2seq.dynamic_decode`](https://www.tensorflow.org/api_docs/python/tf/contrib/seq2seq/dynamic_decode)"
   ]
  },
  {
   "cell_type": "code",
   "execution_count": 11,
   "metadata": {},
   "outputs": [
    {
     "name": "stdout",
     "output_type": "stream",
     "text": [
      "Tests Passed\n"
     ]
    }
   ],
   "source": [
    "\n",
    "def decoding_layer_train(encoder_state, dec_cell, dec_embed_input, \n",
    "                         target_sequence_length, max_summary_length, \n",
    "                         output_layer, keep_prob):\n",
    "    \"\"\"\n",
    "    Create a decoding layer for training\n",
    "    :param encoder_state: Encoder State\n",
    "    :param dec_cell: Decoder RNN Cell\n",
    "    :param dec_embed_input: Decoder embedded input\n",
    "    :param target_sequence_length: The lengths of each sequence in the target batch\n",
    "    :param max_summary_length: The length of the longest sequence in the batch\n",
    "    :param output_layer: Function to apply the output layer\n",
    "    :param keep_prob: Dropout keep probability\n",
    "    :return: BasicDecoderOutput containing training logits and sample_id\n",
    "    \"\"\"\n",
    "    input_helper = tf.contrib.seq2seq.TrainingHelper(\n",
    "        dec_embed_input, target_sequence_length)\n",
    "    dropout = tf.contrib.rnn.DropoutWrapper(\n",
    "        dec_cell, output_keep_prob=keep_prob)\n",
    "    decoder = tf.contrib.seq2seq.BasicDecoder(\n",
    "        dropout, input_helper, encoder_state, output_layer=output_layer)\n",
    "    final_outputs,_,_ = tf.contrib.seq2seq.dynamic_decode(\n",
    "        decoder, impute_finished=True, maximum_iterations=max_summary_length)    \n",
    "    \n",
    "    return final_outputs\n",
    "\n",
    "\n",
    "\"\"\"\n",
    "DON'T MODIFY ANYTHING IN THIS CELL THAT IS BELOW THIS LINE\n",
    "\"\"\"\n",
    "tests.test_decoding_layer_train(decoding_layer_train)"
   ]
  },
  {
   "cell_type": "markdown",
   "metadata": {},
   "source": [
    "### Decoding - Inference\n",
    "Create inference decoder:\n",
    "* Create a [`tf.contrib.seq2seq.GreedyEmbeddingHelper`](https://www.tensorflow.org/api_docs/python/tf/contrib/seq2seq/GreedyEmbeddingHelper)\n",
    "* Create a [`tf.contrib.seq2seq.BasicDecoder`](https://www.tensorflow.org/api_docs/python/tf/contrib/seq2seq/BasicDecoder)\n",
    "* Obtain the decoder outputs from [`tf.contrib.seq2seq.dynamic_decode`](https://www.tensorflow.org/api_docs/python/tf/contrib/seq2seq/dynamic_decode)"
   ]
  },
  {
   "cell_type": "code",
   "execution_count": 12,
   "metadata": {
    "scrolled": true
   },
   "outputs": [
    {
     "name": "stdout",
     "output_type": "stream",
     "text": [
      "Tests Passed\n"
     ]
    }
   ],
   "source": [
    "def decoding_layer_infer(encoder_state, dec_cell, dec_embeddings, start_of_sequence_id,\n",
    "                         end_of_sequence_id, max_target_sequence_length,\n",
    "                         vocab_size, output_layer, batch_size, keep_prob):\n",
    "    \"\"\"\n",
    "    Create a decoding layer for inference\n",
    "    :param encoder_state: Encoder state\n",
    "    :param dec_cell: Decoder RNN Cell\n",
    "    :param dec_embeddings: Decoder embeddings\n",
    "    :param start_of_sequence_id: GO ID\n",
    "    :param end_of_sequence_id: EOS Id\n",
    "    :param max_target_sequence_length: Maximum length of target sequences\n",
    "    :param vocab_size: Size of decoder/target vocabulary\n",
    "    :param decoding_scope: TenorFlow Variable Scope for decoding\n",
    "    :param output_layer: Function to apply the output layer\n",
    "    :param batch_size: Batch size\n",
    "    :param keep_prob: Dropout keep probability\n",
    "    :return: BasicDecoderOutput containing inference logits and sample_id\n",
    "    \"\"\"\n",
    "    start_tokens = tf.tile(\n",
    "        tf.constant([target_vocab_to_int['<GO>']], dtype=tf.int32), [batch_size], name='start_tokens')\n",
    "    inference_helper = tf.contrib.seq2seq.GreedyEmbeddingHelper(\n",
    "        dec_embeddings, start_tokens, end_of_sequence_id)\n",
    "    inference_decoder = tf.contrib.seq2seq.BasicDecoder(\n",
    "        dec_cell, inference_helper, encoder_state, output_layer)\n",
    "    final_outputs,_,_ = tf.contrib.seq2seq.dynamic_decode(\n",
    "        inference_decoder, impute_finished=True,\n",
    "        maximum_iterations= max_target_sequence_length)\n",
    "    return final_outputs\n",
    "\n",
    "\n",
    "\"\"\"\n",
    "DON'T MODIFY ANYTHING IN THIS CELL THAT IS BELOW THIS LINE\n",
    "\"\"\"\n",
    "tests.test_decoding_layer_infer(decoding_layer_infer)"
   ]
  },
  {
   "cell_type": "markdown",
   "metadata": {},
   "source": [
    "### Build the Decoding Layer\n",
    "Implement `decoding_layer()` to create a Decoder RNN layer.\n",
    "\n",
    "* Embed the target sequences\n",
    "* Construct the decoder LSTM cell (just like you constructed the encoder cell above)\n",
    "* Create an output layer to map the outputs of the decoder to the elements of our vocabulary\n",
    "* Use the your `decoding_layer_train(encoder_state, dec_cell, dec_embed_input, target_sequence_length, max_target_sequence_length, output_layer, keep_prob)` function to get the training logits.\n",
    "* Use your `decoding_layer_infer(encoder_state, dec_cell, dec_embeddings, start_of_sequence_id, end_of_sequence_id, max_target_sequence_length, vocab_size, output_layer, batch_size, keep_prob)` function to get the inference logits.\n",
    "\n",
    "Note: You'll need to use [tf.variable_scope](https://www.tensorflow.org/api_docs/python/tf/variable_scope) to share variables between training and inference."
   ]
  },
  {
   "cell_type": "code",
   "execution_count": 13,
   "metadata": {},
   "outputs": [
    {
     "name": "stdout",
     "output_type": "stream",
     "text": [
      "Tests Passed\n"
     ]
    }
   ],
   "source": [
    "def decoding_layer(dec_input, encoder_state,\n",
    "                   target_sequence_length, max_target_sequence_length,\n",
    "                   rnn_size,\n",
    "                   num_layers, target_vocab_to_int, target_vocab_size,\n",
    "                   batch_size, keep_prob, decoding_embedding_size):\n",
    "    \"\"\"\n",
    "    Create decoding layer\n",
    "    :param dec_input: Decoder input\n",
    "    :param encoder_state: Encoder state\n",
    "    :param target_sequence_length: The lengths of each sequence in the target batch\n",
    "    :param max_target_sequence_length: Maximum length of target sequences\n",
    "    :param rnn_size: RNN Size\n",
    "    :param num_layers: Number of layers\n",
    "    :param target_vocab_to_int: Dictionary to go from the target words to an id\n",
    "    :param target_vocab_size: Size of target vocabulary\n",
    "    :param batch_size: The size of the batch\n",
    "    :param keep_prob: Dropout keep probability\n",
    "    :param decoding_embedding_size: Decoding embedding size\n",
    "    :return: Tuple of (Training BasicDecoderOutput, Inference BasicDecoderOutput)\n",
    "    \"\"\"\n",
    "    dec_embeddings = tf.Variable(\n",
    "        tf.random_uniform([target_vocab_size, decoding_embedding_size]))\n",
    "    dec_embed_input = tf.nn.embedding_lookup(dec_embeddings, dec_input)\n",
    "\n",
    "    def make_cell(rnn_size):\n",
    "        dec_cell = tf.contrib.rnn.LSTMCell(\n",
    "            rnn_size, initializer=tf.random_uniform_initializer(-0.1, 0.1))\n",
    "        return dec_cell\n",
    "    \n",
    "    dec_cell = tf.contrib.rnn.MultiRNNCell(\n",
    "        [make_cell(rnn_size) for _ in range(num_layers)])\n",
    "    output_layer = Dense(\n",
    "        target_vocab_size, kernel_initializer = tf.contrib.layers.xavier_initializer())\n",
    "    \n",
    "    with tf.variable_scope(\"decode\"):   \n",
    "        training_logits = decoding_layer_train(\n",
    "            encoder_state, dec_cell, dec_embed_input, target_sequence_length,\n",
    "            max_target_sequence_length, output_layer, keep_prob)\n",
    "    \n",
    "    with tf.variable_scope(\"decode\", reuse=True):   \n",
    "        inference_logits = decoding_layer_infer(\n",
    "            encoder_state, dec_cell, dec_embeddings, target_vocab_to_int['<GO>'],\n",
    "            target_vocab_to_int['<EOS>'], max_target_sequence_length,\n",
    "            target_vocab_size, output_layer, batch_size, keep_prob)\n",
    "    \n",
    "    return training_logits, inference_logits\n",
    "    \n",
    "\n",
    "\"\"\"\n",
    "DON'T MODIFY ANYTHING IN THIS CELL THAT IS BELOW THIS LINE\n",
    "\"\"\"\n",
    "tests.test_decoding_layer(decoding_layer)"
   ]
  },
  {
   "cell_type": "markdown",
   "metadata": {},
   "source": [
    "### Build the Neural Network\n",
    "Apply the functions you implemented above to:\n",
    "\n",
    "- Encode the input using your `encoding_layer(rnn_inputs, rnn_size, num_layers, keep_prob,  source_sequence_length, source_vocab_size, encoding_embedding_size)`.\n",
    "- Process target data using your `process_decoder_input(target_data, target_vocab_to_int, batch_size)` function.\n",
    "- Decode the encoded input using your `decoding_layer(dec_input, enc_state, target_sequence_length, max_target_sentence_length, rnn_size, num_layers, target_vocab_to_int, target_vocab_size, batch_size, keep_prob, dec_embedding_size)` function."
   ]
  },
  {
   "cell_type": "code",
   "execution_count": 14,
   "metadata": {},
   "outputs": [
    {
     "name": "stdout",
     "output_type": "stream",
     "text": [
      "Tests Passed\n"
     ]
    }
   ],
   "source": [
    "def seq2seq_model(input_data, target_data, keep_prob, batch_size,\n",
    "                  source_sequence_length, target_sequence_length,\n",
    "                  max_target_sentence_length,\n",
    "                  source_vocab_size, target_vocab_size,\n",
    "                  enc_embedding_size, dec_embedding_size,\n",
    "                  rnn_size, num_layers, target_vocab_to_int):\n",
    "    \"\"\"\n",
    "    Build the Sequence-to-Sequence part of the neural network\n",
    "    :param input_data: Input placeholder\n",
    "    :param target_data: Target placeholder\n",
    "    :param keep_prob: Dropout keep probability placeholder\n",
    "    :param batch_size: Batch Size\n",
    "    :param source_sequence_length: Sequence Lengths of source sequences in the batch\n",
    "    :param target_sequence_length: Sequence Lengths of target sequences in the batch\n",
    "    :param source_vocab_size: Source vocabulary size\n",
    "    :param target_vocab_size: Target vocabulary size\n",
    "    :param enc_embedding_size: Decoder embedding size\n",
    "    :param dec_embedding_size: Encoder embedding size\n",
    "    :param rnn_size: RNN Size\n",
    "    :param num_layers: Number of layers\n",
    "    :param target_vocab_to_int: Dictionary to go from the target words to an id\n",
    "    :return: Tuple of (Training BasicDecoderOutput, Inference BasicDecoderOutput)\n",
    "    \"\"\"    \n",
    "    _, enc_state = encoding_layer(\n",
    "        input_data, rnn_size, num_layers, keep_prob, \n",
    "        source_sequence_length, source_vocab_size, enc_embedding_size)  \n",
    "     \n",
    "    dec_input = process_decoder_input(target_data, target_vocab_to_int, batch_size)\n",
    "    \n",
    "    training_decoder_logits, inference_decoder_logits = decoding_layer(\n",
    "        dec_input, enc_state, target_sequence_length, max_target_sentence_length,\n",
    "        rnn_size, num_layers, target_vocab_to_int, target_vocab_size,\n",
    "        batch_size, keep_prob, dec_embedding_size)    \n",
    "    \n",
    "    return training_decoder_logits, inference_decoder_logits\n",
    "\n",
    "\n",
    "\"\"\"\n",
    "DON'T MODIFY ANYTHING IN THIS CELL THAT IS BELOW THIS LINE\n",
    "\"\"\"\n",
    "tests.test_seq2seq_model(seq2seq_model)"
   ]
  },
  {
   "cell_type": "markdown",
   "metadata": {},
   "source": [
    "## Neural Network Training\n",
    "### Hyperparameters\n",
    "Tune the following parameters:\n",
    "\n",
    "- Set `epochs` to the number of epochs.\n",
    "- Set `batch_size` to the batch size.\n",
    "- Set `rnn_size` to the size of the RNNs.\n",
    "- Set `num_layers` to the number of layers.\n",
    "- Set `encoding_embedding_size` to the size of the embedding for the encoder.\n",
    "- Set `decoding_embedding_size` to the size of the embedding for the decoder.\n",
    "- Set `learning_rate` to the learning rate.\n",
    "- Set `keep_probability` to the Dropout keep probability\n",
    "- Set `display_step` to state how many steps between each debug output statement"
   ]
  },
  {
   "cell_type": "code",
   "execution_count": 15,
   "metadata": {
    "collapsed": true
   },
   "outputs": [],
   "source": [
    "# Number of Epochs\n",
    "epochs = 25\n",
    "# Batch Size\n",
    "batch_size = 128\n",
    "# RNN Size\n",
    "rnn_size = 256\n",
    "# Number of Layers\n",
    "num_layers = 2\n",
    "# Embedding Size\n",
    "encoding_embedding_size = 10\n",
    "decoding_embedding_size = 10\n",
    "# Learning Rate\n",
    "learning_rate = 0.01\n",
    "# Dropout Keep Probability\n",
    "keep_probability = 0.5\n",
    "display_step = 100"
   ]
  },
  {
   "cell_type": "markdown",
   "metadata": {},
   "source": [
    "### Build the Graph\n",
    "Build the graph using the neural network you implemented."
   ]
  },
  {
   "cell_type": "code",
   "execution_count": 16,
   "metadata": {
    "collapsed": true
   },
   "outputs": [],
   "source": [
    "\"\"\"\n",
    "DON'T MODIFY ANYTHING IN THIS CELL\n",
    "\"\"\"\n",
    "save_path = 'checkpoints/dev'\n",
    "(source_int_text, target_int_text), (source_vocab_to_int, target_vocab_to_int), _ = helper.load_preprocess()\n",
    "max_target_sentence_length = max([len(sentence) for sentence in source_int_text])\n",
    "\n",
    "train_graph = tf.Graph()\n",
    "with train_graph.as_default():\n",
    "    input_data, targets, lr, keep_prob, target_sequence_length, max_target_sequence_length, source_sequence_length = model_inputs()\n",
    "\n",
    "    #sequence_length = tf.placeholder_with_default(max_target_sentence_length, None, name='sequence_length')\n",
    "    input_shape = tf.shape(input_data)\n",
    "\n",
    "    train_logits, inference_logits = seq2seq_model(tf.reverse(input_data, [-1]),\n",
    "                                                   targets,\n",
    "                                                   keep_prob,\n",
    "                                                   batch_size,\n",
    "                                                   source_sequence_length,\n",
    "                                                   target_sequence_length,\n",
    "                                                   max_target_sequence_length,\n",
    "                                                   len(source_vocab_to_int),\n",
    "                                                   len(target_vocab_to_int),\n",
    "                                                   encoding_embedding_size,\n",
    "                                                   decoding_embedding_size,\n",
    "                                                   rnn_size,\n",
    "                                                   num_layers,\n",
    "                                                   target_vocab_to_int)\n",
    "\n",
    "\n",
    "    training_logits = tf.identity(train_logits.rnn_output, name='logits')\n",
    "    inference_logits = tf.identity(inference_logits.sample_id, name='predictions')\n",
    "\n",
    "    masks = tf.sequence_mask(target_sequence_length, max_target_sequence_length, dtype=tf.float32, name='masks')\n",
    "\n",
    "    with tf.name_scope(\"optimization\"):\n",
    "        # Loss function\n",
    "        cost = tf.contrib.seq2seq.sequence_loss(\n",
    "            training_logits,\n",
    "            targets,\n",
    "            masks)\n",
    "\n",
    "        # Optimizer\n",
    "        optimizer = tf.train.AdamOptimizer(lr)\n",
    "\n",
    "        # Gradient Clipping\n",
    "        gradients = optimizer.compute_gradients(cost)\n",
    "        capped_gradients = [(tf.clip_by_value(grad, -1., 1.), var) for grad, var in gradients if grad is not None]\n",
    "        train_op = optimizer.apply_gradients(capped_gradients)\n"
   ]
  },
  {
   "cell_type": "markdown",
   "metadata": {},
   "source": [
    "Batch and pad the source and target sequences"
   ]
  },
  {
   "cell_type": "code",
   "execution_count": 17,
   "metadata": {
    "collapsed": true
   },
   "outputs": [],
   "source": [
    "\"\"\"\n",
    "DON'T MODIFY ANYTHING IN THIS CELL\n",
    "\"\"\"\n",
    "def pad_sentence_batch(sentence_batch, pad_int):\n",
    "    \"\"\"Pad sentences with <PAD> so that each sentence of a batch has the same length\"\"\"\n",
    "    max_sentence = max([len(sentence) for sentence in sentence_batch])\n",
    "    return [sentence + [pad_int] * (max_sentence - len(sentence)) for sentence in sentence_batch]\n",
    "\n",
    "\n",
    "def get_batches(sources, targets, batch_size, source_pad_int, target_pad_int):\n",
    "    \"\"\"Batch targets, sources, and the lengths of their sentences together\"\"\"\n",
    "    for batch_i in range(0, len(sources)//batch_size):\n",
    "        start_i = batch_i * batch_size\n",
    "\n",
    "        # Slice the right amount for the batch\n",
    "        sources_batch = sources[start_i:start_i + batch_size]\n",
    "        targets_batch = targets[start_i:start_i + batch_size]\n",
    "\n",
    "        # Pad\n",
    "        pad_sources_batch = np.array(pad_sentence_batch(sources_batch, source_pad_int))\n",
    "        pad_targets_batch = np.array(pad_sentence_batch(targets_batch, target_pad_int))\n",
    "\n",
    "        # Need the lengths for the _lengths parameters\n",
    "        pad_targets_lengths = []\n",
    "        for target in pad_targets_batch:\n",
    "            pad_targets_lengths.append(len(target))\n",
    "\n",
    "        pad_source_lengths = []\n",
    "        for source in pad_sources_batch:\n",
    "            pad_source_lengths.append(len(source))\n",
    "\n",
    "        yield pad_sources_batch, pad_targets_batch, pad_source_lengths, pad_targets_lengths\n"
   ]
  },
  {
   "cell_type": "markdown",
   "metadata": {},
   "source": [
    "### Train\n",
    "Train the neural network on the preprocessed data. If you have a hard time getting a good loss, check the forms to see if anyone is having the same problem."
   ]
  },
  {
   "cell_type": "code",
   "execution_count": 18,
   "metadata": {
    "scrolled": true
   },
   "outputs": [
    {
     "name": "stdout",
     "output_type": "stream",
     "text": [
      "Epoch   0 Batch  100/1077 - Train Accuracy: 0.4211, Validation Accuracy: 0.4876, Loss: 2.1248\n",
      "Epoch   0 Batch  200/1077 - Train Accuracy: 0.4426, Validation Accuracy: 0.5057, Loss: 1.1369\n",
      "Epoch   0 Batch  300/1077 - Train Accuracy: 0.5436, Validation Accuracy: 0.5920, Loss: 0.8227\n",
      "Epoch   0 Batch  400/1077 - Train Accuracy: 0.6105, Validation Accuracy: 0.5749, Loss: 0.7153\n",
      "Epoch   0 Batch  500/1077 - Train Accuracy: 0.5930, Validation Accuracy: 0.6108, Loss: 0.6138\n",
      "Epoch   0 Batch  600/1077 - Train Accuracy: 0.6581, Validation Accuracy: 0.6204, Loss: 0.5417\n",
      "Epoch   0 Batch  700/1077 - Train Accuracy: 0.6031, Validation Accuracy: 0.6286, Loss: 0.5344\n",
      "Epoch   0 Batch  800/1077 - Train Accuracy: 0.6293, Validation Accuracy: 0.6499, Loss: 0.5147\n",
      "Epoch   0 Batch  900/1077 - Train Accuracy: 0.6766, Validation Accuracy: 0.6428, Loss: 0.4813\n",
      "Epoch   0 Batch 1000/1077 - Train Accuracy: 0.7161, Validation Accuracy: 0.6818, Loss: 0.4129\n",
      "Epoch   1 Batch  100/1077 - Train Accuracy: 0.7027, Validation Accuracy: 0.6882, Loss: 0.4084\n",
      "Epoch   1 Batch  200/1077 - Train Accuracy: 0.6875, Validation Accuracy: 0.7077, Loss: 0.4011\n",
      "Epoch   1 Batch  300/1077 - Train Accuracy: 0.7212, Validation Accuracy: 0.7347, Loss: 0.3600\n",
      "Epoch   1 Batch  400/1077 - Train Accuracy: 0.7473, Validation Accuracy: 0.7276, Loss: 0.3639\n",
      "Epoch   1 Batch  500/1077 - Train Accuracy: 0.7438, Validation Accuracy: 0.7283, Loss: 0.3194\n",
      "Epoch   1 Batch  600/1077 - Train Accuracy: 0.7574, Validation Accuracy: 0.7376, Loss: 0.2941\n",
      "Epoch   1 Batch  700/1077 - Train Accuracy: 0.7270, Validation Accuracy: 0.7209, Loss: 0.2992\n",
      "Epoch   1 Batch  800/1077 - Train Accuracy: 0.7098, Validation Accuracy: 0.7589, Loss: 0.3117\n",
      "Epoch   1 Batch  900/1077 - Train Accuracy: 0.7727, Validation Accuracy: 0.7464, Loss: 0.2936\n",
      "Epoch   1 Batch 1000/1077 - Train Accuracy: 0.7604, Validation Accuracy: 0.7617, Loss: 0.2553\n",
      "Epoch   2 Batch  100/1077 - Train Accuracy: 0.7555, Validation Accuracy: 0.7702, Loss: 0.2721\n",
      "Epoch   2 Batch  200/1077 - Train Accuracy: 0.7418, Validation Accuracy: 0.7656, Loss: 0.2691\n",
      "Epoch   2 Batch  300/1077 - Train Accuracy: 0.7701, Validation Accuracy: 0.8001, Loss: 0.2275\n",
      "Epoch   2 Batch  400/1077 - Train Accuracy: 0.8398, Validation Accuracy: 0.7905, Loss: 0.2184\n",
      "Epoch   2 Batch  500/1077 - Train Accuracy: 0.8090, Validation Accuracy: 0.7841, Loss: 0.2117\n",
      "Epoch   2 Batch  600/1077 - Train Accuracy: 0.8300, Validation Accuracy: 0.8111, Loss: 0.2049\n",
      "Epoch   2 Batch  700/1077 - Train Accuracy: 0.7906, Validation Accuracy: 0.7979, Loss: 0.2023\n",
      "Epoch   2 Batch  800/1077 - Train Accuracy: 0.7988, Validation Accuracy: 0.8093, Loss: 0.2053\n",
      "Epoch   2 Batch  900/1077 - Train Accuracy: 0.8320, Validation Accuracy: 0.8217, Loss: 0.2024\n",
      "Epoch   2 Batch 1000/1077 - Train Accuracy: 0.8300, Validation Accuracy: 0.8366, Loss: 0.1571\n",
      "Epoch   3 Batch  100/1077 - Train Accuracy: 0.8449, Validation Accuracy: 0.7994, Loss: 0.1610\n",
      "Epoch   3 Batch  200/1077 - Train Accuracy: 0.8637, Validation Accuracy: 0.8157, Loss: 0.1521\n",
      "Epoch   3 Batch  300/1077 - Train Accuracy: 0.8672, Validation Accuracy: 0.8263, Loss: 0.1357\n",
      "Epoch   3 Batch  400/1077 - Train Accuracy: 0.9066, Validation Accuracy: 0.8335, Loss: 0.1508\n",
      "Epoch   3 Batch  500/1077 - Train Accuracy: 0.8824, Validation Accuracy: 0.8349, Loss: 0.1231\n",
      "Epoch   3 Batch  600/1077 - Train Accuracy: 0.8683, Validation Accuracy: 0.8558, Loss: 0.1270\n",
      "Epoch   3 Batch  700/1077 - Train Accuracy: 0.8773, Validation Accuracy: 0.8441, Loss: 0.1249\n",
      "Epoch   3 Batch  800/1077 - Train Accuracy: 0.8531, Validation Accuracy: 0.8672, Loss: 0.1095\n",
      "Epoch   3 Batch  900/1077 - Train Accuracy: 0.9195, Validation Accuracy: 0.8679, Loss: 0.1262\n",
      "Epoch   3 Batch 1000/1077 - Train Accuracy: 0.8854, Validation Accuracy: 0.8594, Loss: 0.0918\n",
      "Epoch   4 Batch  100/1077 - Train Accuracy: 0.8961, Validation Accuracy: 0.8800, Loss: 0.0992\n",
      "Epoch   4 Batch  200/1077 - Train Accuracy: 0.8875, Validation Accuracy: 0.8874, Loss: 0.0925\n",
      "Epoch   4 Batch  300/1077 - Train Accuracy: 0.8906, Validation Accuracy: 0.8878, Loss: 0.0905\n",
      "Epoch   4 Batch  400/1077 - Train Accuracy: 0.9125, Validation Accuracy: 0.8729, Loss: 0.0990\n",
      "Epoch   4 Batch  500/1077 - Train Accuracy: 0.9293, Validation Accuracy: 0.8825, Loss: 0.0766\n",
      "Epoch   4 Batch  600/1077 - Train Accuracy: 0.9204, Validation Accuracy: 0.9038, Loss: 0.1021\n",
      "Epoch   4 Batch  700/1077 - Train Accuracy: 0.9117, Validation Accuracy: 0.8888, Loss: 0.0949\n",
      "Epoch   4 Batch  800/1077 - Train Accuracy: 0.9199, Validation Accuracy: 0.9062, Loss: 0.0770\n",
      "Epoch   4 Batch  900/1077 - Train Accuracy: 0.9402, Validation Accuracy: 0.9162, Loss: 0.0892\n",
      "Epoch   4 Batch 1000/1077 - Train Accuracy: 0.9115, Validation Accuracy: 0.8960, Loss: 0.0803\n",
      "Epoch   5 Batch  100/1077 - Train Accuracy: 0.9082, Validation Accuracy: 0.9002, Loss: 0.0789\n",
      "Epoch   5 Batch  200/1077 - Train Accuracy: 0.9195, Validation Accuracy: 0.9155, Loss: 0.0800\n",
      "Epoch   5 Batch  300/1077 - Train Accuracy: 0.9334, Validation Accuracy: 0.9130, Loss: 0.0622\n",
      "Epoch   5 Batch  400/1077 - Train Accuracy: 0.9148, Validation Accuracy: 0.9070, Loss: 0.0826\n",
      "Epoch   5 Batch  500/1077 - Train Accuracy: 0.9504, Validation Accuracy: 0.8917, Loss: 0.0667\n",
      "Epoch   5 Batch  600/1077 - Train Accuracy: 0.9379, Validation Accuracy: 0.9300, Loss: 0.0830\n",
      "Epoch   5 Batch  700/1077 - Train Accuracy: 0.9539, Validation Accuracy: 0.9013, Loss: 0.0577\n",
      "Epoch   5 Batch  800/1077 - Train Accuracy: 0.9336, Validation Accuracy: 0.9233, Loss: 0.0654\n",
      "Epoch   5 Batch  900/1077 - Train Accuracy: 0.9391, Validation Accuracy: 0.9286, Loss: 0.0775\n",
      "Epoch   5 Batch 1000/1077 - Train Accuracy: 0.9256, Validation Accuracy: 0.8857, Loss: 0.0703\n",
      "Epoch   6 Batch  100/1077 - Train Accuracy: 0.9375, Validation Accuracy: 0.9130, Loss: 0.0672\n",
      "Epoch   6 Batch  200/1077 - Train Accuracy: 0.9395, Validation Accuracy: 0.8981, Loss: 0.0658\n",
      "Epoch   6 Batch  300/1077 - Train Accuracy: 0.9367, Validation Accuracy: 0.9325, Loss: 0.0735\n",
      "Epoch   6 Batch  400/1077 - Train Accuracy: 0.9332, Validation Accuracy: 0.9119, Loss: 0.0856\n",
      "Epoch   6 Batch  500/1077 - Train Accuracy: 0.9504, Validation Accuracy: 0.9148, Loss: 0.0550\n",
      "Epoch   6 Batch  600/1077 - Train Accuracy: 0.9412, Validation Accuracy: 0.9308, Loss: 0.0631\n",
      "Epoch   6 Batch  700/1077 - Train Accuracy: 0.9613, Validation Accuracy: 0.9382, Loss: 0.0559\n",
      "Epoch   6 Batch  800/1077 - Train Accuracy: 0.9484, Validation Accuracy: 0.9116, Loss: 0.0591\n",
      "Epoch   6 Batch  900/1077 - Train Accuracy: 0.9402, Validation Accuracy: 0.9364, Loss: 0.0644\n",
      "Epoch   6 Batch 1000/1077 - Train Accuracy: 0.9353, Validation Accuracy: 0.8988, Loss: 0.0678\n",
      "Epoch   7 Batch  100/1077 - Train Accuracy: 0.9578, Validation Accuracy: 0.9208, Loss: 0.0606\n",
      "Epoch   7 Batch  200/1077 - Train Accuracy: 0.9434, Validation Accuracy: 0.9425, Loss: 0.0579\n",
      "Epoch   7 Batch  300/1077 - Train Accuracy: 0.9486, Validation Accuracy: 0.9329, Loss: 0.0586\n",
      "Epoch   7 Batch  400/1077 - Train Accuracy: 0.9418, Validation Accuracy: 0.9315, Loss: 0.0719\n",
      "Epoch   7 Batch  500/1077 - Train Accuracy: 0.9426, Validation Accuracy: 0.9318, Loss: 0.0438\n",
      "Epoch   7 Batch  600/1077 - Train Accuracy: 0.9375, Validation Accuracy: 0.9208, Loss: 0.0541\n",
      "Epoch   7 Batch  700/1077 - Train Accuracy: 0.9633, Validation Accuracy: 0.9205, Loss: 0.0496\n",
      "Epoch   7 Batch  800/1077 - Train Accuracy: 0.9605, Validation Accuracy: 0.9492, Loss: 0.0458\n",
      "Epoch   7 Batch  900/1077 - Train Accuracy: 0.9371, Validation Accuracy: 0.9173, Loss: 0.0569\n",
      "Epoch   7 Batch 1000/1077 - Train Accuracy: 0.9487, Validation Accuracy: 0.9432, Loss: 0.0563\n",
      "Epoch   8 Batch  100/1077 - Train Accuracy: 0.9402, Validation Accuracy: 0.9293, Loss: 0.0582\n",
      "Epoch   8 Batch  200/1077 - Train Accuracy: 0.9434, Validation Accuracy: 0.9226, Loss: 0.0496\n",
      "Epoch   8 Batch  300/1077 - Train Accuracy: 0.9585, Validation Accuracy: 0.9276, Loss: 0.0554\n",
      "Epoch   8 Batch  400/1077 - Train Accuracy: 0.9406, Validation Accuracy: 0.9304, Loss: 0.0532\n",
      "Epoch   8 Batch  500/1077 - Train Accuracy: 0.9352, Validation Accuracy: 0.9332, Loss: 0.0569\n",
      "Epoch   8 Batch  600/1077 - Train Accuracy: 0.9632, Validation Accuracy: 0.9286, Loss: 0.0565\n",
      "Epoch   8 Batch  700/1077 - Train Accuracy: 0.9641, Validation Accuracy: 0.9407, Loss: 0.0504\n",
      "Epoch   8 Batch  800/1077 - Train Accuracy: 0.9387, Validation Accuracy: 0.9308, Loss: 0.0594\n"
     ]
    },
    {
     "name": "stdout",
     "output_type": "stream",
     "text": [
      "Epoch   8 Batch  900/1077 - Train Accuracy: 0.9453, Validation Accuracy: 0.9332, Loss: 0.0540\n",
      "Epoch   8 Batch 1000/1077 - Train Accuracy: 0.9483, Validation Accuracy: 0.9386, Loss: 0.0498\n",
      "Epoch   9 Batch  100/1077 - Train Accuracy: 0.9555, Validation Accuracy: 0.9261, Loss: 0.0587\n",
      "Epoch   9 Batch  200/1077 - Train Accuracy: 0.9516, Validation Accuracy: 0.9432, Loss: 0.0485\n",
      "Epoch   9 Batch  300/1077 - Train Accuracy: 0.9585, Validation Accuracy: 0.9609, Loss: 0.0442\n",
      "Epoch   9 Batch  400/1077 - Train Accuracy: 0.9586, Validation Accuracy: 0.9485, Loss: 0.0485\n",
      "Epoch   9 Batch  500/1077 - Train Accuracy: 0.9551, Validation Accuracy: 0.9442, Loss: 0.0352\n",
      "Epoch   9 Batch  600/1077 - Train Accuracy: 0.9509, Validation Accuracy: 0.9439, Loss: 0.0542\n",
      "Epoch   9 Batch  700/1077 - Train Accuracy: 0.9656, Validation Accuracy: 0.9496, Loss: 0.0352\n",
      "Epoch   9 Batch  800/1077 - Train Accuracy: 0.9586, Validation Accuracy: 0.9371, Loss: 0.0443\n",
      "Epoch   9 Batch  900/1077 - Train Accuracy: 0.9480, Validation Accuracy: 0.9251, Loss: 0.0587\n",
      "Epoch   9 Batch 1000/1077 - Train Accuracy: 0.9565, Validation Accuracy: 0.9439, Loss: 0.0494\n",
      "Epoch  10 Batch  100/1077 - Train Accuracy: 0.9523, Validation Accuracy: 0.9311, Loss: 0.0524\n",
      "Epoch  10 Batch  200/1077 - Train Accuracy: 0.9613, Validation Accuracy: 0.9393, Loss: 0.0565\n",
      "Epoch  10 Batch  300/1077 - Train Accuracy: 0.9646, Validation Accuracy: 0.9247, Loss: 0.0509\n",
      "Epoch  10 Batch  400/1077 - Train Accuracy: 0.9570, Validation Accuracy: 0.9222, Loss: 0.0595\n",
      "Epoch  10 Batch  500/1077 - Train Accuracy: 0.9539, Validation Accuracy: 0.9492, Loss: 0.0479\n",
      "Epoch  10 Batch  600/1077 - Train Accuracy: 0.9490, Validation Accuracy: 0.9290, Loss: 0.0537\n",
      "Epoch  10 Batch  700/1077 - Train Accuracy: 0.9668, Validation Accuracy: 0.9489, Loss: 0.0393\n",
      "Epoch  10 Batch  800/1077 - Train Accuracy: 0.9707, Validation Accuracy: 0.9513, Loss: 0.0388\n",
      "Epoch  10 Batch  900/1077 - Train Accuracy: 0.9516, Validation Accuracy: 0.9414, Loss: 0.0464\n",
      "Epoch  10 Batch 1000/1077 - Train Accuracy: 0.9297, Validation Accuracy: 0.9439, Loss: 0.0502\n",
      "Epoch  11 Batch  100/1077 - Train Accuracy: 0.9500, Validation Accuracy: 0.9478, Loss: 0.0378\n",
      "Epoch  11 Batch  200/1077 - Train Accuracy: 0.9496, Validation Accuracy: 0.9492, Loss: 0.0462\n",
      "Epoch  11 Batch  300/1077 - Train Accuracy: 0.9807, Validation Accuracy: 0.9283, Loss: 0.0358\n",
      "Epoch  11 Batch  400/1077 - Train Accuracy: 0.9488, Validation Accuracy: 0.9478, Loss: 0.0475\n",
      "Epoch  11 Batch  500/1077 - Train Accuracy: 0.9598, Validation Accuracy: 0.9496, Loss: 0.0300\n",
      "Epoch  11 Batch  600/1077 - Train Accuracy: 0.9386, Validation Accuracy: 0.9624, Loss: 0.0449\n",
      "Epoch  11 Batch  700/1077 - Train Accuracy: 0.9652, Validation Accuracy: 0.9205, Loss: 0.0509\n",
      "Epoch  11 Batch  800/1077 - Train Accuracy: 0.9586, Validation Accuracy: 0.9325, Loss: 0.0487\n",
      "Epoch  11 Batch  900/1077 - Train Accuracy: 0.9391, Validation Accuracy: 0.9318, Loss: 0.0666\n",
      "Epoch  11 Batch 1000/1077 - Train Accuracy: 0.9539, Validation Accuracy: 0.9364, Loss: 0.0517\n",
      "Epoch  12 Batch  100/1077 - Train Accuracy: 0.9555, Validation Accuracy: 0.9290, Loss: 0.0538\n",
      "Epoch  12 Batch  200/1077 - Train Accuracy: 0.9594, Validation Accuracy: 0.9446, Loss: 0.0436\n",
      "Epoch  12 Batch  300/1077 - Train Accuracy: 0.9535, Validation Accuracy: 0.9570, Loss: 0.0455\n",
      "Epoch  12 Batch  400/1077 - Train Accuracy: 0.9566, Validation Accuracy: 0.9503, Loss: 0.0478\n",
      "Epoch  12 Batch  500/1077 - Train Accuracy: 0.9480, Validation Accuracy: 0.9393, Loss: 0.0376\n",
      "Epoch  12 Batch  600/1077 - Train Accuracy: 0.9565, Validation Accuracy: 0.9450, Loss: 0.0450\n",
      "Epoch  12 Batch  700/1077 - Train Accuracy: 0.9555, Validation Accuracy: 0.9460, Loss: 0.0391\n",
      "Epoch  12 Batch  800/1077 - Train Accuracy: 0.9504, Validation Accuracy: 0.9418, Loss: 0.0512\n",
      "Epoch  12 Batch  900/1077 - Train Accuracy: 0.9555, Validation Accuracy: 0.9545, Loss: 0.0498\n",
      "Epoch  12 Batch 1000/1077 - Train Accuracy: 0.9256, Validation Accuracy: 0.9325, Loss: 0.0519\n",
      "Epoch  13 Batch  100/1077 - Train Accuracy: 0.9527, Validation Accuracy: 0.9315, Loss: 0.0493\n",
      "Epoch  13 Batch  200/1077 - Train Accuracy: 0.9523, Validation Accuracy: 0.9375, Loss: 0.0464\n",
      "Epoch  13 Batch  300/1077 - Train Accuracy: 0.9688, Validation Accuracy: 0.9524, Loss: 0.0365\n",
      "Epoch  13 Batch  400/1077 - Train Accuracy: 0.9547, Validation Accuracy: 0.9446, Loss: 0.0462\n",
      "Epoch  13 Batch  500/1077 - Train Accuracy: 0.9449, Validation Accuracy: 0.9244, Loss: 0.0481\n",
      "Epoch  13 Batch  600/1077 - Train Accuracy: 0.9487, Validation Accuracy: 0.9492, Loss: 0.0624\n",
      "Epoch  13 Batch  700/1077 - Train Accuracy: 0.9570, Validation Accuracy: 0.9467, Loss: 0.0320\n",
      "Epoch  13 Batch  800/1077 - Train Accuracy: 0.9688, Validation Accuracy: 0.9201, Loss: 0.0414\n",
      "Epoch  13 Batch  900/1077 - Train Accuracy: 0.9465, Validation Accuracy: 0.9364, Loss: 0.0566\n",
      "Epoch  13 Batch 1000/1077 - Train Accuracy: 0.9513, Validation Accuracy: 0.9368, Loss: 0.0397\n",
      "Epoch  14 Batch  100/1077 - Train Accuracy: 0.9508, Validation Accuracy: 0.9379, Loss: 0.0419\n",
      "Epoch  14 Batch  200/1077 - Train Accuracy: 0.9566, Validation Accuracy: 0.9375, Loss: 0.0408\n",
      "Epoch  14 Batch  300/1077 - Train Accuracy: 0.9675, Validation Accuracy: 0.9666, Loss: 0.0425\n",
      "Epoch  14 Batch  400/1077 - Train Accuracy: 0.9555, Validation Accuracy: 0.9652, Loss: 0.0422\n",
      "Epoch  14 Batch  500/1077 - Train Accuracy: 0.9555, Validation Accuracy: 0.9542, Loss: 0.0321\n",
      "Epoch  14 Batch  600/1077 - Train Accuracy: 0.9587, Validation Accuracy: 0.9545, Loss: 0.0440\n",
      "Epoch  14 Batch  700/1077 - Train Accuracy: 0.9781, Validation Accuracy: 0.9570, Loss: 0.0344\n",
      "Epoch  14 Batch  800/1077 - Train Accuracy: 0.9539, Validation Accuracy: 0.9354, Loss: 0.0312\n",
      "Epoch  14 Batch  900/1077 - Train Accuracy: 0.9633, Validation Accuracy: 0.9396, Loss: 0.0457\n",
      "Epoch  14 Batch 1000/1077 - Train Accuracy: 0.9606, Validation Accuracy: 0.9460, Loss: 0.0425\n",
      "Epoch  15 Batch  100/1077 - Train Accuracy: 0.9516, Validation Accuracy: 0.9421, Loss: 0.0557\n",
      "Epoch  15 Batch  200/1077 - Train Accuracy: 0.9391, Validation Accuracy: 0.9347, Loss: 0.0581\n",
      "Epoch  15 Batch  300/1077 - Train Accuracy: 0.9618, Validation Accuracy: 0.9428, Loss: 0.0383\n",
      "Epoch  15 Batch  400/1077 - Train Accuracy: 0.9492, Validation Accuracy: 0.9322, Loss: 0.0560\n",
      "Epoch  15 Batch  500/1077 - Train Accuracy: 0.9473, Validation Accuracy: 0.9542, Loss: 0.0320\n",
      "Epoch  15 Batch  600/1077 - Train Accuracy: 0.9416, Validation Accuracy: 0.9364, Loss: 0.0457\n",
      "Epoch  15 Batch  700/1077 - Train Accuracy: 0.9547, Validation Accuracy: 0.9375, Loss: 0.0428\n",
      "Epoch  15 Batch  800/1077 - Train Accuracy: 0.9652, Validation Accuracy: 0.9407, Loss: 0.0422\n",
      "Epoch  15 Batch  900/1077 - Train Accuracy: 0.9305, Validation Accuracy: 0.9513, Loss: 0.0581\n",
      "Epoch  15 Batch 1000/1077 - Train Accuracy: 0.9349, Validation Accuracy: 0.9602, Loss: 0.0372\n",
      "Epoch  16 Batch  100/1077 - Train Accuracy: 0.9648, Validation Accuracy: 0.9485, Loss: 0.0376\n",
      "Epoch  16 Batch  200/1077 - Train Accuracy: 0.9527, Validation Accuracy: 0.9553, Loss: 0.0353\n",
      "Epoch  16 Batch  300/1077 - Train Accuracy: 0.9646, Validation Accuracy: 0.9727, Loss: 0.0375\n",
      "Epoch  16 Batch  400/1077 - Train Accuracy: 0.9477, Validation Accuracy: 0.9599, Loss: 0.0473\n",
      "Epoch  16 Batch  500/1077 - Train Accuracy: 0.9586, Validation Accuracy: 0.9531, Loss: 0.0473\n",
      "Epoch  16 Batch  600/1077 - Train Accuracy: 0.9412, Validation Accuracy: 0.9290, Loss: 0.0493\n",
      "Epoch  16 Batch  700/1077 - Train Accuracy: 0.9645, Validation Accuracy: 0.9613, Loss: 0.0314\n",
      "Epoch  16 Batch  800/1077 - Train Accuracy: 0.9684, Validation Accuracy: 0.9588, Loss: 0.0377\n",
      "Epoch  16 Batch  900/1077 - Train Accuracy: 0.9430, Validation Accuracy: 0.9567, Loss: 0.0487\n",
      "Epoch  16 Batch 1000/1077 - Train Accuracy: 0.9487, Validation Accuracy: 0.9528, Loss: 0.0411\n",
      "Epoch  17 Batch  100/1077 - Train Accuracy: 0.9656, Validation Accuracy: 0.9478, Loss: 0.0367\n",
      "Epoch  17 Batch  200/1077 - Train Accuracy: 0.9477, Validation Accuracy: 0.9343, Loss: 0.0488\n",
      "Epoch  17 Batch  300/1077 - Train Accuracy: 0.9749, Validation Accuracy: 0.9403, Loss: 0.0329\n",
      "Epoch  17 Batch  400/1077 - Train Accuracy: 0.9371, Validation Accuracy: 0.9428, Loss: 0.0445\n",
      "Epoch  17 Batch  500/1077 - Train Accuracy: 0.9457, Validation Accuracy: 0.9386, Loss: 0.0349\n",
      "Epoch  17 Batch  600/1077 - Train Accuracy: 0.9464, Validation Accuracy: 0.9563, Loss: 0.0529\n"
     ]
    },
    {
     "name": "stdout",
     "output_type": "stream",
     "text": [
      "Epoch  17 Batch  700/1077 - Train Accuracy: 0.9715, Validation Accuracy: 0.9379, Loss: 0.0322\n",
      "Epoch  17 Batch  800/1077 - Train Accuracy: 0.9570, Validation Accuracy: 0.9634, Loss: 0.0331\n",
      "Epoch  17 Batch  900/1077 - Train Accuracy: 0.9422, Validation Accuracy: 0.9432, Loss: 0.0561\n",
      "Epoch  17 Batch 1000/1077 - Train Accuracy: 0.9554, Validation Accuracy: 0.9609, Loss: 0.0503\n",
      "Epoch  18 Batch  100/1077 - Train Accuracy: 0.9461, Validation Accuracy: 0.9425, Loss: 0.0345\n",
      "Epoch  18 Batch  200/1077 - Train Accuracy: 0.9480, Validation Accuracy: 0.9492, Loss: 0.0400\n",
      "Epoch  18 Batch  300/1077 - Train Accuracy: 0.9646, Validation Accuracy: 0.9482, Loss: 0.0433\n",
      "Epoch  18 Batch  400/1077 - Train Accuracy: 0.9535, Validation Accuracy: 0.9560, Loss: 0.0569\n",
      "Epoch  18 Batch  500/1077 - Train Accuracy: 0.9492, Validation Accuracy: 0.9364, Loss: 0.0404\n",
      "Epoch  18 Batch  600/1077 - Train Accuracy: 0.9565, Validation Accuracy: 0.9457, Loss: 0.0540\n",
      "Epoch  18 Batch  700/1077 - Train Accuracy: 0.9680, Validation Accuracy: 0.9581, Loss: 0.0301\n",
      "Epoch  18 Batch  800/1077 - Train Accuracy: 0.9699, Validation Accuracy: 0.9553, Loss: 0.0401\n",
      "Epoch  18 Batch  900/1077 - Train Accuracy: 0.9598, Validation Accuracy: 0.9474, Loss: 0.0498\n",
      "Epoch  18 Batch 1000/1077 - Train Accuracy: 0.9438, Validation Accuracy: 0.9702, Loss: 0.0386\n",
      "Epoch  19 Batch  100/1077 - Train Accuracy: 0.9473, Validation Accuracy: 0.9418, Loss: 0.0419\n",
      "Epoch  19 Batch  200/1077 - Train Accuracy: 0.9469, Validation Accuracy: 0.9528, Loss: 0.0457\n",
      "Epoch  19 Batch  300/1077 - Train Accuracy: 0.9700, Validation Accuracy: 0.9581, Loss: 0.0419\n",
      "Epoch  19 Batch  400/1077 - Train Accuracy: 0.9508, Validation Accuracy: 0.9616, Loss: 0.0622\n",
      "Epoch  19 Batch  500/1077 - Train Accuracy: 0.9559, Validation Accuracy: 0.9421, Loss: 0.0376\n",
      "Epoch  19 Batch  600/1077 - Train Accuracy: 0.9639, Validation Accuracy: 0.9450, Loss: 0.0660\n",
      "Epoch  19 Batch  700/1077 - Train Accuracy: 0.9734, Validation Accuracy: 0.9418, Loss: 0.0363\n",
      "Epoch  19 Batch  800/1077 - Train Accuracy: 0.9645, Validation Accuracy: 0.9538, Loss: 0.0339\n",
      "Epoch  19 Batch  900/1077 - Train Accuracy: 0.9484, Validation Accuracy: 0.9389, Loss: 0.0616\n",
      "Epoch  19 Batch 1000/1077 - Train Accuracy: 0.9453, Validation Accuracy: 0.9421, Loss: 0.0463\n",
      "Epoch  20 Batch  100/1077 - Train Accuracy: 0.9465, Validation Accuracy: 0.9542, Loss: 0.0370\n",
      "Epoch  20 Batch  200/1077 - Train Accuracy: 0.9496, Validation Accuracy: 0.9506, Loss: 0.0433\n",
      "Epoch  20 Batch  300/1077 - Train Accuracy: 0.9568, Validation Accuracy: 0.9432, Loss: 0.0328\n",
      "Epoch  20 Batch  400/1077 - Train Accuracy: 0.9504, Validation Accuracy: 0.9616, Loss: 0.0479\n",
      "Epoch  20 Batch  500/1077 - Train Accuracy: 0.9488, Validation Accuracy: 0.9407, Loss: 0.0393\n",
      "Epoch  20 Batch  600/1077 - Train Accuracy: 0.9669, Validation Accuracy: 0.9389, Loss: 0.0613\n",
      "Epoch  20 Batch  700/1077 - Train Accuracy: 0.9672, Validation Accuracy: 0.9503, Loss: 0.0456\n",
      "Epoch  20 Batch  800/1077 - Train Accuracy: 0.9602, Validation Accuracy: 0.9627, Loss: 0.0408\n",
      "Epoch  20 Batch  900/1077 - Train Accuracy: 0.9379, Validation Accuracy: 0.9425, Loss: 0.0523\n",
      "Epoch  20 Batch 1000/1077 - Train Accuracy: 0.9483, Validation Accuracy: 0.9609, Loss: 0.0414\n",
      "Epoch  21 Batch  100/1077 - Train Accuracy: 0.9648, Validation Accuracy: 0.9411, Loss: 0.0513\n",
      "Epoch  21 Batch  200/1077 - Train Accuracy: 0.9574, Validation Accuracy: 0.9521, Loss: 0.0455\n",
      "Epoch  21 Batch  300/1077 - Train Accuracy: 0.9679, Validation Accuracy: 0.9538, Loss: 0.0449\n",
      "Epoch  21 Batch  400/1077 - Train Accuracy: 0.9516, Validation Accuracy: 0.9535, Loss: 0.0509\n",
      "Epoch  21 Batch  500/1077 - Train Accuracy: 0.9535, Validation Accuracy: 0.9435, Loss: 0.0340\n",
      "Epoch  21 Batch  600/1077 - Train Accuracy: 0.9650, Validation Accuracy: 0.9620, Loss: 0.0523\n",
      "Epoch  21 Batch  700/1077 - Train Accuracy: 0.9691, Validation Accuracy: 0.9375, Loss: 0.0278\n",
      "Epoch  21 Batch  800/1077 - Train Accuracy: 0.9605, Validation Accuracy: 0.9510, Loss: 0.0365\n",
      "Epoch  21 Batch  900/1077 - Train Accuracy: 0.9523, Validation Accuracy: 0.9446, Loss: 0.0544\n",
      "Epoch  21 Batch 1000/1077 - Train Accuracy: 0.9531, Validation Accuracy: 0.9531, Loss: 0.0370\n",
      "Epoch  22 Batch  100/1077 - Train Accuracy: 0.9492, Validation Accuracy: 0.9602, Loss: 0.0384\n",
      "Epoch  22 Batch  200/1077 - Train Accuracy: 0.9492, Validation Accuracy: 0.9428, Loss: 0.0514\n",
      "Epoch  22 Batch  300/1077 - Train Accuracy: 0.9700, Validation Accuracy: 0.9407, Loss: 0.0480\n",
      "Epoch  22 Batch  400/1077 - Train Accuracy: 0.9516, Validation Accuracy: 0.9432, Loss: 0.0615\n",
      "Epoch  22 Batch  500/1077 - Train Accuracy: 0.9570, Validation Accuracy: 0.9268, Loss: 0.0298\n",
      "Epoch  22 Batch  600/1077 - Train Accuracy: 0.9457, Validation Accuracy: 0.9460, Loss: 0.0487\n",
      "Epoch  22 Batch  700/1077 - Train Accuracy: 0.9512, Validation Accuracy: 0.9343, Loss: 0.0371\n",
      "Epoch  22 Batch  800/1077 - Train Accuracy: 0.9672, Validation Accuracy: 0.9521, Loss: 0.0400\n",
      "Epoch  22 Batch  900/1077 - Train Accuracy: 0.9512, Validation Accuracy: 0.9315, Loss: 0.0501\n",
      "Epoch  22 Batch 1000/1077 - Train Accuracy: 0.9423, Validation Accuracy: 0.9510, Loss: 0.0471\n",
      "Epoch  23 Batch  100/1077 - Train Accuracy: 0.9547, Validation Accuracy: 0.9350, Loss: 0.0561\n",
      "Epoch  23 Batch  200/1077 - Train Accuracy: 0.9613, Validation Accuracy: 0.9450, Loss: 0.0449\n",
      "Epoch  23 Batch  300/1077 - Train Accuracy: 0.9634, Validation Accuracy: 0.9371, Loss: 0.0369\n",
      "Epoch  23 Batch  400/1077 - Train Accuracy: 0.9617, Validation Accuracy: 0.9492, Loss: 0.0507\n",
      "Epoch  23 Batch  500/1077 - Train Accuracy: 0.9488, Validation Accuracy: 0.9414, Loss: 0.0307\n",
      "Epoch  23 Batch  600/1077 - Train Accuracy: 0.9457, Validation Accuracy: 0.9513, Loss: 0.0512\n",
      "Epoch  23 Batch  700/1077 - Train Accuracy: 0.9691, Validation Accuracy: 0.9371, Loss: 0.0474\n",
      "Epoch  23 Batch  800/1077 - Train Accuracy: 0.9594, Validation Accuracy: 0.9542, Loss: 0.0447\n",
      "Epoch  23 Batch  900/1077 - Train Accuracy: 0.9422, Validation Accuracy: 0.9474, Loss: 0.0691\n",
      "Epoch  23 Batch 1000/1077 - Train Accuracy: 0.9297, Validation Accuracy: 0.9393, Loss: 0.0605\n",
      "Epoch  24 Batch  100/1077 - Train Accuracy: 0.9520, Validation Accuracy: 0.9428, Loss: 0.0527\n",
      "Epoch  24 Batch  200/1077 - Train Accuracy: 0.9551, Validation Accuracy: 0.9446, Loss: 0.0429\n",
      "Epoch  24 Batch  300/1077 - Train Accuracy: 0.9650, Validation Accuracy: 0.9435, Loss: 0.0489\n",
      "Epoch  24 Batch  400/1077 - Train Accuracy: 0.9332, Validation Accuracy: 0.9616, Loss: 0.0575\n",
      "Epoch  24 Batch  500/1077 - Train Accuracy: 0.9527, Validation Accuracy: 0.9311, Loss: 0.0320\n",
      "Epoch  24 Batch  600/1077 - Train Accuracy: 0.9394, Validation Accuracy: 0.9375, Loss: 0.0533\n",
      "Epoch  24 Batch  700/1077 - Train Accuracy: 0.9672, Validation Accuracy: 0.9506, Loss: 0.0397\n",
      "Epoch  24 Batch  800/1077 - Train Accuracy: 0.9723, Validation Accuracy: 0.9588, Loss: 0.0339\n",
      "Epoch  24 Batch  900/1077 - Train Accuracy: 0.9637, Validation Accuracy: 0.9357, Loss: 0.0486\n",
      "Epoch  24 Batch 1000/1077 - Train Accuracy: 0.9330, Validation Accuracy: 0.9496, Loss: 0.0459\n",
      "WARNING:tensorflow:Error encountered when serializing LAYER_NAME_UIDS.\n",
      "Type is unsupported, or the types of the items don't match field type in CollectionDef.\n",
      "'dict' object has no attribute 'name'\n",
      "Model Trained and Saved\n"
     ]
    }
   ],
   "source": [
    "\"\"\"\n",
    "DON'T MODIFY ANYTHING IN THIS CELL\n",
    "\"\"\"\n",
    "def get_accuracy(target, logits):\n",
    "    \"\"\"\n",
    "    Calculate accuracy\n",
    "    \"\"\"\n",
    "    max_seq = max(target.shape[1], logits.shape[1])\n",
    "    if max_seq - target.shape[1]:\n",
    "        target = np.pad(\n",
    "            target,\n",
    "            [(0,0),(0,max_seq - target.shape[1])],\n",
    "            'constant')\n",
    "    if max_seq - logits.shape[1]:\n",
    "        logits = np.pad(\n",
    "            logits,\n",
    "            [(0,0),(0,max_seq - logits.shape[1])],\n",
    "            'constant')\n",
    "\n",
    "    return np.mean(np.equal(target, logits))\n",
    "\n",
    "# Split data to training and validation sets\n",
    "train_source = source_int_text[batch_size:]\n",
    "train_target = target_int_text[batch_size:]\n",
    "valid_source = source_int_text[:batch_size]\n",
    "valid_target = target_int_text[:batch_size]\n",
    "(valid_sources_batch, valid_targets_batch, valid_sources_lengths, valid_targets_lengths ) = next(get_batches(valid_source,\n",
    "                                                                                                             valid_target,\n",
    "                                                                                                             batch_size,\n",
    "                                                                                                             source_vocab_to_int['<PAD>'],\n",
    "                                                                                                             target_vocab_to_int['<PAD>']))                                                                                                  \n",
    "with tf.Session(graph=train_graph) as sess:\n",
    "    sess.run(tf.global_variables_initializer())\n",
    "\n",
    "    for epoch_i in range(epochs):\n",
    "        for batch_i, (source_batch, target_batch, sources_lengths, targets_lengths) in enumerate(\n",
    "                get_batches(train_source, train_target, batch_size,\n",
    "                            source_vocab_to_int['<PAD>'],\n",
    "                            target_vocab_to_int['<PAD>'])):\n",
    "\n",
    "            _, loss = sess.run(\n",
    "                [train_op, cost],\n",
    "                {input_data: source_batch,\n",
    "                 targets: target_batch,\n",
    "                 lr: learning_rate,\n",
    "                 target_sequence_length: targets_lengths,\n",
    "                 source_sequence_length: sources_lengths,\n",
    "                 keep_prob: keep_probability})\n",
    "\n",
    "\n",
    "            if batch_i % display_step == 0 and batch_i > 0:\n",
    "\n",
    "\n",
    "                batch_train_logits = sess.run(\n",
    "                    inference_logits,\n",
    "                    {input_data: source_batch,\n",
    "                     source_sequence_length: sources_lengths,\n",
    "                     target_sequence_length: targets_lengths,\n",
    "                     keep_prob: 1.0})\n",
    "\n",
    "\n",
    "                batch_valid_logits = sess.run(\n",
    "                    inference_logits,\n",
    "                    {input_data: valid_sources_batch,\n",
    "                     source_sequence_length: valid_sources_lengths,\n",
    "                     target_sequence_length: valid_targets_lengths,\n",
    "                     keep_prob: 1.0})\n",
    "\n",
    "                train_acc = get_accuracy(target_batch, batch_train_logits)\n",
    "\n",
    "                valid_acc = get_accuracy(valid_targets_batch, batch_valid_logits)\n",
    "\n",
    "                print('Epoch {:>3} Batch {:>4}/{} - Train Accuracy: {:>6.4f}, Validation Accuracy: {:>6.4f}, Loss: {:>6.4f}'\n",
    "                      .format(epoch_i, batch_i, len(source_int_text) // batch_size, train_acc, valid_acc, loss))\n",
    "\n",
    "    # Save Model\n",
    "    saver = tf.train.Saver()\n",
    "    saver.save(sess, save_path)\n",
    "    print('Model Trained and Saved')"
   ]
  },
  {
   "cell_type": "markdown",
   "metadata": {},
   "source": [
    "### Save Parameters\n",
    "Save the `batch_size` and `save_path` parameters for inference."
   ]
  },
  {
   "cell_type": "code",
   "execution_count": 23,
   "metadata": {
    "collapsed": true
   },
   "outputs": [],
   "source": [
    "\"\"\"\n",
    "DON'T MODIFY ANYTHING IN THIS CELL\n",
    "\"\"\"\n",
    "# Save parameters for checkpoint\n",
    "helper.save_params(save_path)"
   ]
  },
  {
   "cell_type": "markdown",
   "metadata": {},
   "source": [
    "# Checkpoint"
   ]
  },
  {
   "cell_type": "code",
   "execution_count": 24,
   "metadata": {
    "collapsed": true
   },
   "outputs": [],
   "source": [
    "\"\"\"\n",
    "DON'T MODIFY ANYTHING IN THIS CELL\n",
    "\"\"\"\n",
    "import tensorflow as tf\n",
    "import numpy as np\n",
    "import helper\n",
    "import problem_unittests as tests\n",
    "\n",
    "_, (source_vocab_to_int, target_vocab_to_int), (source_int_to_vocab, target_int_to_vocab) = helper.load_preprocess()\n",
    "load_path = helper.load_params()"
   ]
  },
  {
   "cell_type": "markdown",
   "metadata": {},
   "source": [
    "## Sentence to Sequence\n",
    "To feed a sentence into the model for translation, you first need to preprocess it.  Implement the function `sentence_to_seq()` to preprocess new sentences.\n",
    "\n",
    "- Convert the sentence to lowercase\n",
    "- Convert words into ids using `vocab_to_int`\n",
    " - Convert words not in the vocabulary, to the `<UNK>` word id."
   ]
  },
  {
   "cell_type": "code",
   "execution_count": 21,
   "metadata": {},
   "outputs": [
    {
     "name": "stdout",
     "output_type": "stream",
     "text": [
      "Tests Passed\n"
     ]
    }
   ],
   "source": [
    "def sentence_to_seq(sentence, vocab_to_int):\n",
    "    \"\"\"\n",
    "    Convert a sentence to a sequence of ids\n",
    "    :param sentence: String\n",
    "    :param vocab_to_int: Dictionary to go from the words to an id\n",
    "    :return: List of word ids\n",
    "    \"\"\"\n",
    "    unknown = vocab_to_int[\"<UNK>\"]\n",
    "    ids = [vocab_to_int.get(word, unknown)\n",
    "           for word in sentence.lower().split()]\n",
    "    \n",
    "    return ids\n",
    "\n",
    "\n",
    "\"\"\"\n",
    "DON'T MODIFY ANYTHING IN THIS CELL THAT IS BELOW THIS LINE\n",
    "\"\"\"\n",
    "tests.test_sentence_to_seq(sentence_to_seq)"
   ]
  },
  {
   "cell_type": "markdown",
   "metadata": {},
   "source": [
    "## Translate\n",
    "This will translate `translate_sentence` from English to French."
   ]
  },
  {
   "cell_type": "code",
   "execution_count": 22,
   "metadata": {},
   "outputs": [
    {
     "name": "stdout",
     "output_type": "stream",
     "text": [
      "INFO:tensorflow:Restoring parameters from checkpoints/dev\n",
      "Input\n",
      "  Word Ids:      [229, 193, 131, 97, 190, 223, 75]\n",
      "  English Words: ['he', 'saw', 'a', 'old', 'yellow', 'truck', '.']\n",
      "\n",
      "Prediction\n",
      "  Word Ids:      [84, 54, 228, 16, 281, 20, 133, 302, 1]\n",
      "  French Words: il a vu un vieux camion jaune . <EOS>\n"
     ]
    }
   ],
   "source": [
    "translate_sentence = 'he saw a old yellow truck .'\n",
    "\n",
    "\n",
    "\"\"\"\n",
    "DON'T MODIFY ANYTHING IN THIS CELL\n",
    "\"\"\"\n",
    "translate_sentence = sentence_to_seq(translate_sentence, source_vocab_to_int)\n",
    "\n",
    "loaded_graph = tf.Graph()\n",
    "with tf.Session(graph=loaded_graph) as sess:\n",
    "    # Load saved model\n",
    "    loader = tf.train.import_meta_graph(load_path + '.meta')\n",
    "    loader.restore(sess, load_path)\n",
    "\n",
    "    input_data = loaded_graph.get_tensor_by_name('input:0')\n",
    "    logits = loaded_graph.get_tensor_by_name('predictions:0')\n",
    "    target_sequence_length = loaded_graph.get_tensor_by_name('target_sequence_length:0')\n",
    "    source_sequence_length = loaded_graph.get_tensor_by_name('source_sequence_length:0')\n",
    "    keep_prob = loaded_graph.get_tensor_by_name('keep_prob:0')\n",
    "\n",
    "    translate_logits = sess.run(logits, {input_data: [translate_sentence]*batch_size,\n",
    "                                         target_sequence_length: [len(translate_sentence)*2]*batch_size,\n",
    "                                         source_sequence_length: [len(translate_sentence)]*batch_size,\n",
    "                                         keep_prob: 1.0})[0]\n",
    "\n",
    "print('Input')\n",
    "print('  Word Ids:      {}'.format([i for i in translate_sentence]))\n",
    "print('  English Words: {}'.format([source_int_to_vocab[i] for i in translate_sentence]))\n",
    "\n",
    "print('\\nPrediction')\n",
    "print('  Word Ids:      {}'.format([i for i in translate_logits]))\n",
    "print('  French Words: {}'.format(\" \".join([target_int_to_vocab[i] for i in translate_logits])))\n"
   ]
  },
  {
   "cell_type": "markdown",
   "metadata": {},
   "source": [
    "## Imperfect Translation\n",
    "You might notice that some sentences translate better than others.  Since the dataset you're using only has a vocabulary of 227 English words of the thousands that you use, you're only going to see good results using these words.  For this project, you don't need a perfect translation. However, if you want to create a better translation model, you'll need better data.\n",
    "\n",
    "You can train on the [WMT10 French-English corpus](http://www.statmt.org/wmt10/training-giga-fren.tar).  This dataset has more vocabulary and richer in topics discussed.  However, this will take you days to train, so make sure you've a GPU and the neural network is performing well on dataset we provided.  Just make sure you play with the WMT10 corpus after you've submitted this project.\n",
    "## Submitting This Project\n",
    "When submitting this project, make sure to run all the cells before saving the notebook. Save the notebook file as \"dlnd_language_translation.ipynb\" and save it as a HTML file under \"File\" -> \"Download as\". Include the \"helper.py\" and \"problem_unittests.py\" files in your submission."
   ]
  }
 ],
 "metadata": {
  "anaconda-cloud": {},
  "kernelspec": {
   "display_name": "Python 3",
   "language": "python",
   "name": "python3"
  },
  "language_info": {
   "codemirror_mode": {
    "name": "ipython",
    "version": 3
   },
   "file_extension": ".py",
   "mimetype": "text/x-python",
   "name": "python",
   "nbconvert_exporter": "python",
   "pygments_lexer": "ipython3",
   "version": "3.5.2"
  }
 },
 "nbformat": 4,
 "nbformat_minor": 1
}
