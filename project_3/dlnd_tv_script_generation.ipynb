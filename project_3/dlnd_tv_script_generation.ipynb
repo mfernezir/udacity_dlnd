{
 "cells": [
  {
   "cell_type": "markdown",
   "metadata": {},
   "source": [
    "# TV Script Generation\n",
    "In this project, you'll generate your own [Simpsons](https://en.wikipedia.org/wiki/The_Simpsons) TV scripts using RNNs.  You'll be using part of the [Simpsons dataset](https://www.kaggle.com/wcukierski/the-simpsons-by-the-data) of scripts from 27 seasons.  The Neural Network you'll build will generate a new TV script for a scene at [Moe's Tavern](https://simpsonswiki.com/wiki/Moe's_Tavern).\n",
    "## Get the Data\n",
    "The data is already provided for you.  You'll be using a subset of the original dataset.  It consists of only the scenes in Moe's Tavern.  This doesn't include other versions of the tavern, like \"Moe's Cavern\", \"Flaming Moe's\", \"Uncle Moe's Family Feed-Bag\", etc.."
   ]
  },
  {
   "cell_type": "code",
   "execution_count": 1,
   "metadata": {},
   "outputs": [],
   "source": [
    "\"\"\"\n",
    "DON'T MODIFY ANYTHING IN THIS CELL\n",
    "\"\"\"\n",
    "import helper\n",
    "\n",
    "data_dir = './data/simpsons/moes_tavern_lines.txt'\n",
    "text = helper.load_data(data_dir)\n",
    "# Ignore notice, since we don't use it for analysing the data\n",
    "text = text[81:]"
   ]
  },
  {
   "cell_type": "code",
   "execution_count": 2,
   "metadata": {},
   "outputs": [
    {
     "data": {
      "text/plain": [
       "\"Moe_Szyslak: (INTO PHONE) Moe's Tavern. Where the elite meet to drink.\\nBart_Simpson: Eh, yeah, hello, is Mike there? Last name, Rotch.\\nMoe_Szyslak: (INTO PHONE) Hold on, I'll check. (TO BARFLIES) Mike Rotch. Mike Rotch. Hey, has anybody seen Mike Rotch, lately?\\nMoe_Szyslak: (INTO PHONE) Listen you l\""
      ]
     },
     "execution_count": 2,
     "metadata": {},
     "output_type": "execute_result"
    }
   ],
   "source": [
    "text[:300]"
   ]
  },
  {
   "cell_type": "markdown",
   "metadata": {},
   "source": [
    "## Explore the Data\n",
    "Play around with `view_sentence_range` to view different parts of the data."
   ]
  },
  {
   "cell_type": "code",
   "execution_count": 3,
   "metadata": {},
   "outputs": [
    {
     "name": "stdout",
     "output_type": "stream",
     "text": [
      "Dataset Stats\n",
      "Roughly the number of unique words: 11492\n",
      "Number of scenes: 262\n",
      "Average number of sentences in each scene: 15.248091603053435\n",
      "Number of lines: 4257\n",
      "Average number of words in each line: 11.50434578341555\n",
      "\n",
      "The sentences 0 to 10:\n",
      "Moe_Szyslak: (INTO PHONE) Moe's Tavern. Where the elite meet to drink.\n",
      "Bart_Simpson: Eh, yeah, hello, is Mike there? Last name, Rotch.\n",
      "Moe_Szyslak: (INTO PHONE) Hold on, I'll check. (TO BARFLIES) Mike Rotch. Mike Rotch. Hey, has anybody seen Mike Rotch, lately?\n",
      "Moe_Szyslak: (INTO PHONE) Listen you little puke. One of these days I'm gonna catch you, and I'm gonna carve my name on your back with an ice pick.\n",
      "Moe_Szyslak: What's the matter Homer? You're not your normal effervescent self.\n",
      "Homer_Simpson: I got my problems, Moe. Give me another one.\n",
      "Moe_Szyslak: Homer, hey, you should not drink to forget your problems.\n",
      "Barney_Gumble: Yeah, you should only drink to enhance your social skills.\n",
      "\n",
      "\n"
     ]
    }
   ],
   "source": [
    "view_sentence_range = (0, 10)\n",
    "\n",
    "\"\"\"\n",
    "DON'T MODIFY ANYTHING IN THIS CELL\n",
    "\"\"\"\n",
    "import numpy as np\n",
    "\n",
    "print('Dataset Stats')\n",
    "print('Roughly the number of unique words: {}'.format(len({word: None for word in text.split()})))\n",
    "scenes = text.split('\\n\\n')\n",
    "print('Number of scenes: {}'.format(len(scenes)))\n",
    "sentence_count_scene = [scene.count('\\n') for scene in scenes]\n",
    "print('Average number of sentences in each scene: {}'.format(np.average(sentence_count_scene)))\n",
    "\n",
    "sentences = [sentence for scene in scenes for sentence in scene.split('\\n')]\n",
    "print('Number of lines: {}'.format(len(sentences)))\n",
    "word_count_sentence = [len(sentence.split()) for sentence in sentences]\n",
    "print('Average number of words in each line: {}'.format(np.average(word_count_sentence)))\n",
    "\n",
    "print()\n",
    "print('The sentences {} to {}:'.format(*view_sentence_range))\n",
    "print('\\n'.join(text.split('\\n')[view_sentence_range[0]:view_sentence_range[1]]))"
   ]
  },
  {
   "cell_type": "markdown",
   "metadata": {},
   "source": [
    "## Implement Preprocessing Functions\n",
    "The first thing to do to any dataset is preprocessing.  Implement the following preprocessing functions below:\n",
    "- Lookup Table\n",
    "- Tokenize Punctuation\n",
    "\n",
    "### Lookup Table\n",
    "To create a word embedding, you first need to transform the words to ids.  In this function, create two dictionaries:\n",
    "- Dictionary to go from the words to an id, we'll call `vocab_to_int`\n",
    "- Dictionary to go from the id to word, we'll call `int_to_vocab`\n",
    "\n",
    "Return these dictionaries in the following tuple `(vocab_to_int, int_to_vocab)`"
   ]
  },
  {
   "cell_type": "code",
   "execution_count": 4,
   "metadata": {},
   "outputs": [
    {
     "name": "stdout",
     "output_type": "stream",
     "text": [
      "Tests Passed\n"
     ]
    }
   ],
   "source": [
    "import numpy as np\n",
    "import problem_unittests as tests\n",
    "\n",
    "def create_lookup_tables(text):\n",
    "    \"\"\"\n",
    "    Create lookup tables for vocabulary\n",
    "    :param text: The text of tv scripts split into words\n",
    "    :return: A tuple of dicts (vocab_to_int, int_to_vocab)\n",
    "    \"\"\"            \n",
    "    int_to_vocab = dict(enumerate(set(text)))\n",
    "    vocab_to_int = {word:idx for idx, word in int_to_vocab.items()}\n",
    "    return (vocab_to_int, int_to_vocab)\n",
    "\n",
    "\n",
    "\"\"\"\n",
    "DON'T MODIFY ANYTHING IN THIS CELL THAT IS BELOW THIS LINE\n",
    "\"\"\"\n",
    "tests.test_create_lookup_tables(create_lookup_tables)"
   ]
  },
  {
   "cell_type": "markdown",
   "metadata": {},
   "source": [
    "### Tokenize Punctuation\n",
    "We'll be splitting the script into a word array using spaces as delimiters.  However, punctuations like periods and exclamation marks make it hard for the neural network to distinguish between the word \"bye\" and \"bye!\".\n",
    "\n",
    "Implement the function `token_lookup` to return a dict that will be used to tokenize symbols like \"!\" into \"||Exclamation_Mark||\".  Create a dictionary for the following symbols where the symbol is the key and value is the token:\n",
    "- Period ( . )\n",
    "- Comma ( , )\n",
    "- Quotation Mark ( \" )\n",
    "- Semicolon ( ; )\n",
    "- Exclamation mark ( ! )\n",
    "- Question mark ( ? )\n",
    "- Left Parentheses ( ( )\n",
    "- Right Parentheses ( ) )\n",
    "- Dash ( -- )\n",
    "- Return ( \\n )\n",
    "\n",
    "This dictionary will be used to token the symbols and add the delimiter (space) around it.  This separates the symbols as it's own word, making it easier for the neural network to predict on the next word. Make sure you don't use a token that could be confused as a word. Instead of using the token \"dash\", try using something like \"||dash||\"."
   ]
  },
  {
   "cell_type": "code",
   "execution_count": 5,
   "metadata": {},
   "outputs": [
    {
     "name": "stdout",
     "output_type": "stream",
     "text": [
      "Tests Passed\n"
     ]
    }
   ],
   "source": [
    "def token_lookup():\n",
    "    \"\"\"\n",
    "    Generate a dict to turn punctuation into a token.\n",
    "    :return: Tokenize dictionary where the key is the punctuation and the value is the token\n",
    "    \"\"\"    \n",
    "    punct_tokens = {\".\": \"||Period||\", \",\": \"||Comma||\", '\"': \"||Quotation_Mark||\", \";\": \"||Semicolon||\",\n",
    "                   \"!\": \"||Exclamation_Mark||\", \"?\": \"||Question_Mark||\", \"(\":\"||Left_Parentheses||\",\n",
    "                   \")\": \"||Right_Parentheses||\", \"--\": \"||Dash||\", \"\\n\":\"||Return||\"}\n",
    "    \n",
    "    return punct_tokens\n",
    "\n",
    "\"\"\"\n",
    "DON'T MODIFY ANYTHING IN THIS CELL THAT IS BELOW THIS LINE\n",
    "\"\"\"\n",
    "tests.test_tokenize(token_lookup)"
   ]
  },
  {
   "cell_type": "markdown",
   "metadata": {},
   "source": [
    "## Preprocess all the data and save it\n",
    "Running the code cell below will preprocess all the data and save it to file."
   ]
  },
  {
   "cell_type": "code",
   "execution_count": 6,
   "metadata": {},
   "outputs": [],
   "source": [
    "\"\"\"\n",
    "DON'T MODIFY ANYTHING IN THIS CELL\n",
    "\"\"\"\n",
    "# Preprocess Training, Validation, and Testing Data\n",
    "helper.preprocess_and_save_data(data_dir, token_lookup, create_lookup_tables)"
   ]
  },
  {
   "cell_type": "markdown",
   "metadata": {},
   "source": [
    "# Check Point\n",
    "This is your first checkpoint. If you ever decide to come back to this notebook or have to restart the notebook, you can start from here. The preprocessed data has been saved to disk."
   ]
  },
  {
   "cell_type": "code",
   "execution_count": 7,
   "metadata": {},
   "outputs": [],
   "source": [
    "\"\"\"\n",
    "DON'T MODIFY ANYTHING IN THIS CELL\n",
    "\"\"\"\n",
    "import helper\n",
    "import numpy as np\n",
    "import problem_unittests as tests\n",
    "\n",
    "int_text, vocab_to_int, int_to_vocab, token_dict = helper.load_preprocess()"
   ]
  },
  {
   "cell_type": "code",
   "execution_count": 8,
   "metadata": {},
   "outputs": [
    {
     "data": {
      "text/plain": [
       "69100"
      ]
     },
     "execution_count": 8,
     "metadata": {},
     "output_type": "execute_result"
    }
   ],
   "source": [
    "# text converted to ints\n",
    "len(int_text)"
   ]
  },
  {
   "cell_type": "code",
   "execution_count": 9,
   "metadata": {},
   "outputs": [
    {
     "data": {
      "text/plain": [
       "6779"
      ]
     },
     "execution_count": 9,
     "metadata": {},
     "output_type": "execute_result"
    }
   ],
   "source": [
    "len(vocab_to_int)"
   ]
  },
  {
   "cell_type": "code",
   "execution_count": 10,
   "metadata": {},
   "outputs": [
    {
     "data": {
      "text/plain": [
       "6779"
      ]
     },
     "execution_count": 10,
     "metadata": {},
     "output_type": "execute_result"
    }
   ],
   "source": [
    "len(int_to_vocab)"
   ]
  },
  {
   "cell_type": "code",
   "execution_count": 11,
   "metadata": {},
   "outputs": [
    {
     "data": {
      "text/plain": [
       "{'\\n': '||Return||',\n",
       " '!': '||Exclamation_Mark||',\n",
       " '\"': '||Quotation_Mark||',\n",
       " '(': '||Left_Parentheses||',\n",
       " ')': '||Right_Parentheses||',\n",
       " ',': '||Comma||',\n",
       " '--': '||Dash||',\n",
       " '.': '||Period||',\n",
       " ';': '||Semicolon||',\n",
       " '?': '||Question_Mark||'}"
      ]
     },
     "execution_count": 11,
     "metadata": {},
     "output_type": "execute_result"
    }
   ],
   "source": [
    "token_dict"
   ]
  },
  {
   "cell_type": "markdown",
   "metadata": {},
   "source": [
    "## Build the Neural Network\n",
    "You'll build the components necessary to build a RNN by implementing the following functions below:\n",
    "- get_inputs\n",
    "- get_init_cell\n",
    "- get_embed\n",
    "- build_rnn\n",
    "- build_nn\n",
    "- get_batches\n",
    "\n",
    "### Check the Version of TensorFlow and Access to GPU"
   ]
  },
  {
   "cell_type": "code",
   "execution_count": 12,
   "metadata": {},
   "outputs": [
    {
     "name": "stdout",
     "output_type": "stream",
     "text": [
      "TensorFlow Version: 1.2.0-rc1\n",
      "Default GPU Device: /gpu:0\n"
     ]
    }
   ],
   "source": [
    "\"\"\"\n",
    "DON'T MODIFY ANYTHING IN THIS CELL\n",
    "\"\"\"\n",
    "from distutils.version import LooseVersion\n",
    "import warnings\n",
    "import tensorflow as tf\n",
    "\n",
    "# Check TensorFlow Version\n",
    "assert LooseVersion(tf.__version__) >= LooseVersion('1.0'), 'Please use TensorFlow version 1.0 or newer'\n",
    "print('TensorFlow Version: {}'.format(tf.__version__))\n",
    "\n",
    "# Check for a GPU\n",
    "if not tf.test.gpu_device_name():\n",
    "    warnings.warn('No GPU found. Please use a GPU to train your neural network.')\n",
    "else:\n",
    "    print('Default GPU Device: {}'.format(tf.test.gpu_device_name()))"
   ]
  },
  {
   "cell_type": "markdown",
   "metadata": {},
   "source": [
    "### Input\n",
    "Implement the `get_inputs()` function to create TF Placeholders for the Neural Network.  It should create the following placeholders:\n",
    "- Input text placeholder named \"input\" using the [TF Placeholder](https://www.tensorflow.org/api_docs/python/tf/placeholder) `name` parameter.\n",
    "- Targets placeholder\n",
    "- Learning Rate placeholder\n",
    "\n",
    "Return the placeholders in the following tuple `(Input, Targets, LearningRate)`"
   ]
  },
  {
   "cell_type": "code",
   "execution_count": 13,
   "metadata": {},
   "outputs": [
    {
     "name": "stdout",
     "output_type": "stream",
     "text": [
      "Tests Passed\n"
     ]
    }
   ],
   "source": [
    "def get_inputs():\n",
    "    \"\"\"\n",
    "    Create TF Placeholders for input, targets, and learning rate.\n",
    "    :return: Tuple (input, targets, learning rate)\n",
    "    \"\"\"    \n",
    "    input_ = tf.placeholder(dtype=tf.int32, shape=(None, None), name=\"input\")\n",
    "    target = tf.placeholder(dtype=tf.int32, shape=(None, None), name=\"target\")\n",
    "    # explicitly setting scalar shape, rather than allowing any by using `shape=None`\n",
    "    lr = tf.placeholder(dtype=tf.float32, shape=(()), name=\"learning_rate\")\n",
    "    \n",
    "    return (input_, target, lr)\n",
    "\n",
    "\n",
    "\"\"\"\n",
    "DON'T MODIFY ANYTHING IN THIS CELL THAT IS BELOW THIS LINE\n",
    "\"\"\"\n",
    "tests.test_get_inputs(get_inputs)"
   ]
  },
  {
   "cell_type": "markdown",
   "metadata": {},
   "source": [
    "### Build RNN Cell and Initialize\n",
    "Stack one or more [`BasicLSTMCells`](https://www.tensorflow.org/api_docs/python/tf/contrib/rnn/BasicLSTMCell) in a [`MultiRNNCell`](https://www.tensorflow.org/api_docs/python/tf/contrib/rnn/MultiRNNCell).\n",
    "- The Rnn size should be set using `rnn_size`\n",
    "- Initalize Cell State using the MultiRNNCell's [`zero_state()`](https://www.tensorflow.org/api_docs/python/tf/contrib/rnn/MultiRNNCell#zero_state) function\n",
    "    - Apply the name \"initial_state\" to the initial state using [`tf.identity()`](https://www.tensorflow.org/api_docs/python/tf/identity)\n",
    "\n",
    "Return the cell and initial state in the following tuple `(Cell, InitialState)`"
   ]
  },
  {
   "cell_type": "code",
   "execution_count": 14,
   "metadata": {},
   "outputs": [
    {
     "name": "stdout",
     "output_type": "stream",
     "text": [
      "Tests Passed\n"
     ]
    }
   ],
   "source": [
    "# not adding dropout since the task doesn't ask for it\n",
    "def build_cell(rnn_size):\n",
    "    lstm = tf.contrib.rnn.BasicLSTMCell(rnn_size)\n",
    "    return lstm\n",
    "\n",
    "# adding default param for num_layers\n",
    "def get_init_cell(batch_size, rnn_size, num_layers=2):\n",
    "    \"\"\"\n",
    "    Create an RNN Cell and initialize it.\n",
    "    :param batch_size: Size of batches\n",
    "    :param rnn_size: Size of RNNs\n",
    "    :param num_layers: The number of cell layers\n",
    "    :return: Tuple (cell, initialize state)\n",
    "    \"\"\"\n",
    "    cell = tf.contrib.rnn.MultiRNNCell([build_cell(rnn_size) for _ in range(num_layers)])\n",
    "    initial_state = cell.zero_state(batch_size, tf.float32)\n",
    "    initial_state = tf.identity(initial_state, name=\"initial_state\")               \n",
    "               \n",
    "    return (cell, initial_state)\n",
    "\n",
    "\n",
    "\"\"\"\n",
    "DON'T MODIFY ANYTHING IN THIS CELL THAT IS BELOW THIS LINE\n",
    "\"\"\"\n",
    "tests.test_get_init_cell(get_init_cell)"
   ]
  },
  {
   "cell_type": "markdown",
   "metadata": {},
   "source": [
    "### Word Embedding\n",
    "Apply embedding to `input_data` using TensorFlow.  Return the embedded sequence."
   ]
  },
  {
   "cell_type": "code",
   "execution_count": 15,
   "metadata": {},
   "outputs": [
    {
     "name": "stdout",
     "output_type": "stream",
     "text": [
      "Tests Passed\n"
     ]
    }
   ],
   "source": [
    "def get_embed(input_data, vocab_size, embed_dim):\n",
    "    \"\"\"\n",
    "    Create embedding for <input_data>.\n",
    "    :param input_data: TF placeholder for text input.\n",
    "    :param vocab_size: Number of words in vocabulary.\n",
    "    :param embed_dim: Number of embedding dimensions\n",
    "    :return: Embedded input.\n",
    "    \"\"\"\n",
    "    embedding = tf.Variable(tf.random_uniform((vocab_size, embed_dim), -1, 1))\n",
    "    embed = tf.nn.embedding_lookup(embedding, input_data)    \n",
    "    return embed\n",
    "\n",
    "\n",
    "\"\"\"\n",
    "DON'T MODIFY ANYTHING IN THIS CELL THAT IS BELOW THIS LINE\n",
    "\"\"\"\n",
    "tests.test_get_embed(get_embed)"
   ]
  },
  {
   "cell_type": "markdown",
   "metadata": {},
   "source": [
    "### Build RNN\n",
    "You created a RNN Cell in the `get_init_cell()` function.  Time to use the cell to create a RNN.\n",
    "- Build the RNN using the [`tf.nn.dynamic_rnn()`](https://www.tensorflow.org/api_docs/python/tf/nn/dynamic_rnn)\n",
    " - Apply the name \"final_state\" to the final state using [`tf.identity()`](https://www.tensorflow.org/api_docs/python/tf/identity)\n",
    "\n",
    "Return the outputs and final_state state in the following tuple `(Outputs, FinalState)` "
   ]
  },
  {
   "cell_type": "code",
   "execution_count": 16,
   "metadata": {},
   "outputs": [
    {
     "name": "stdout",
     "output_type": "stream",
     "text": [
      "Tests Passed\n"
     ]
    }
   ],
   "source": [
    "# why is there no initial_state param for this function?\n",
    "def build_rnn(cell, inputs):\n",
    "    \"\"\"\n",
    "    Create a RNN using a RNN Cell\n",
    "    :param cell: RNN Cell\n",
    "    :param inputs: Input text data  # NB this should be embeded text data!\n",
    "    :return: Tuple (Outputs, Final State)\n",
    "    \"\"\"        \n",
    "    outputs, final_state = tf.nn.dynamic_rnn(cell, inputs, dtype=tf.float32)\n",
    "    final_state = tf.identity(final_state, name=\"final_state\")        \n",
    "    return outputs, final_state\n",
    "\n",
    "\n",
    "\"\"\"\n",
    "DON'T MODIFY ANYTHING IN THIS CELL THAT IS BELOW THIS LINE\n",
    "\"\"\"\n",
    "tests.test_build_rnn(build_rnn)"
   ]
  },
  {
   "cell_type": "markdown",
   "metadata": {},
   "source": [
    "### Build the Neural Network\n",
    "Apply the functions you implemented above to:\n",
    "- Apply embedding to `input_data` using your `get_embed(input_data, vocab_size, embed_dim)` function.\n",
    "- Build RNN using `cell` and your `build_rnn(cell, inputs)` function.\n",
    "- Apply a fully connected layer with a linear activation and `vocab_size` as the number of outputs.\n",
    "\n",
    "Return the logits and final state in the following tuple (Logits, FinalState) "
   ]
  },
  {
   "cell_type": "code",
   "execution_count": 17,
   "metadata": {},
   "outputs": [
    {
     "name": "stdout",
     "output_type": "stream",
     "text": [
      "Tests Passed\n"
     ]
    }
   ],
   "source": [
    "def build_nn(cell, rnn_size, input_data, vocab_size, embed_dim):\n",
    "    \"\"\"\n",
    "    Build part of the neural network\n",
    "    :param cell: RNN cell\n",
    "    :param rnn_size: Size of rnns\n",
    "    :param input_data: Input data\n",
    "    :param vocab_size: Vocabulary size\n",
    "    :param embed_dim: Number of embedding dimensions\n",
    "    :return: Tuple (Logits, FinalState)\n",
    "    \"\"\"\n",
    "    embed = get_embed(input_data, vocab_size, embed_dim)\n",
    "    outputs, final_state = build_rnn(cell, embed)    \n",
    "    \n",
    "    logits = tf.layers.dense(\n",
    "        outputs, vocab_size, activation=None, name=\"logits\",        \n",
    "        kernel_initializer=tf.contrib.layers.xavier_initializer())\n",
    "    \n",
    "    return logits, final_state\n",
    "\n",
    "\n",
    "\"\"\"\n",
    "DON'T MODIFY ANYTHING IN THIS CELL THAT IS BELOW THIS LINE\n",
    "\"\"\"\n",
    "tests.test_build_nn(build_nn)"
   ]
  },
  {
   "cell_type": "markdown",
   "metadata": {},
   "source": [
    "### Batches\n",
    "Implement `get_batches` to create batches of input and targets using `int_text`.  The batches should be a Numpy array with the shape `(number of batches, 2, batch size, sequence length)`. Each batch contains two elements:\n",
    "- The first element is a single batch of **input** with the shape `[batch size, sequence length]`\n",
    "- The second element is a single batch of **targets** with the shape `[batch size, sequence length]`\n",
    "\n",
    "If you can't fill the last batch with enough data, drop the last batch.\n",
    "\n",
    "For exmple, `get_batches([1, 2, 3, 4, 5, 6, 7, 8, 9, 10, 11, 12, 13, 14, 15, 16, 17, 18, 19, 20], 3, 2)` would return a Numpy array of the following:\n",
    "```\n",
    "[\n",
    "  # First Batch\n",
    "  [\n",
    "    # Batch of Input\n",
    "    [[ 1  2], [ 7  8], [13 14]]\n",
    "    # Batch of targets\n",
    "    [[ 2  3], [ 8  9], [14 15]]\n",
    "  ]\n",
    "\n",
    "  # Second Batch\n",
    "  [\n",
    "    # Batch of Input\n",
    "    [[ 3  4], [ 9 10], [15 16]]\n",
    "    # Batch of targets\n",
    "    [[ 4  5], [10 11], [16 17]]\n",
    "  ]\n",
    "\n",
    "  # Third Batch\n",
    "  [\n",
    "    # Batch of Input\n",
    "    [[ 5  6], [11 12], [17 18]]\n",
    "    # Batch of targets\n",
    "    [[ 6  7], [12 13], [18  1]]\n",
    "  ]\n",
    "]\n",
    "```\n",
    "\n",
    "Notice that the last target value in the last batch is the first input value of the first batch. In this case, `1`. This is a common technique used when creating sequence batches, although it is rather unintuitive."
   ]
  },
  {
   "cell_type": "code",
   "execution_count": 18,
   "metadata": {},
   "outputs": [
    {
     "name": "stdout",
     "output_type": "stream",
     "text": [
      "Tests Passed\n"
     ]
    }
   ],
   "source": [
    "def get_batches(int_text, batch_size, seq_length):\n",
    "    \"\"\"\n",
    "    Return batches of input and target\n",
    "    :param int_text: Text with the words replaced by their ids\n",
    "    :param batch_size: The size of batch\n",
    "    :param seq_length: The length of sequence\n",
    "    :return: Batches as a Numpy array\n",
    "    \"\"\"    \n",
    "    final_batch = []   \n",
    "    \n",
    "    # drop some data to make full bathces only\n",
    "    words_per_batch = batch_size * seq_length\n",
    "    n_batches = len(int_text) // words_per_batch\n",
    "    int_text = int_text[:n_batches * words_per_batch]\n",
    "    \n",
    "    # prepare shapes for inputs and targets\n",
    "    x_array = np.asarray(int_text)\n",
    "    y_array = np.concatenate([x_array[1:], x_array[:1]])  # uses extra memory, refactor later (maybe)\n",
    "    x_array = x_array.reshape((batch_size, -1))\n",
    "    y_array = y_array.reshape((batch_size, -1)) \n",
    "    \n",
    "    # create batches\n",
    "    for idx in range(0, x_array.shape[1], seq_length):\n",
    "        x = x_array[:, idx: idx + seq_length]\n",
    "        y = y_array[:, idx: idx + seq_length]\n",
    "        final_batch.append([x, y])\n",
    "    \n",
    "    return np.array(final_batch)\n",
    "\n",
    "\n",
    "\"\"\"\n",
    "DON'T MODIFY ANYTHING IN THIS CELL THAT IS BELOW THIS LINE\n",
    "\"\"\"\n",
    "tests.test_get_batches(get_batches)"
   ]
  },
  {
   "cell_type": "markdown",
   "metadata": {},
   "source": [
    "## Neural Network Training\n",
    "### Hyperparameters\n",
    "Tune the following parameters:\n",
    "\n",
    "- Set `num_epochs` to the number of epochs.\n",
    "- Set `batch_size` to the batch size.\n",
    "- Set `rnn_size` to the size of the RNNs.\n",
    "- Set `embed_dim` to the size of the embedding.\n",
    "- Set `seq_length` to the length of sequence.\n",
    "- Set `learning_rate` to the learning rate.\n",
    "- Set `show_every_n_batches` to the number of batches the neural network should print progress."
   ]
  },
  {
   "cell_type": "code",
   "execution_count": 19,
   "metadata": {
    "collapsed": true
   },
   "outputs": [],
   "source": [
    "# Number of Epochs\n",
    "num_epochs = 150\n",
    "# Batch Size\n",
    "batch_size = 69 # odd number to make it 20 batches per epoch\n",
    "# RNN Size\n",
    "rnn_size = 256\n",
    "# Embedding Dimension Size\n",
    "embed_dim = 200\n",
    "# Sequence Length\n",
    "seq_length = 50\n",
    "# Learning Rate\n",
    "learning_rate = 0.01\n",
    "# Show stats for every n number of batches\n",
    "show_every_n_batches = 10\n",
    "\n",
    "\"\"\"\n",
    "DON'T MODIFY ANYTHING IN THIS CELL THAT IS BELOW THIS LINE\n",
    "\"\"\"\n",
    "save_dir = './save'"
   ]
  },
  {
   "cell_type": "markdown",
   "metadata": {},
   "source": [
    "### Build the Graph\n",
    "Build the graph using the neural network you implemented."
   ]
  },
  {
   "cell_type": "code",
   "execution_count": 20,
   "metadata": {},
   "outputs": [],
   "source": [
    "\"\"\"\n",
    "DON'T MODIFY ANYTHING IN THIS CELL\n",
    "\"\"\"\n",
    "from tensorflow.contrib import seq2seq\n",
    "\n",
    "train_graph = tf.Graph()\n",
    "with train_graph.as_default():\n",
    "    vocab_size = len(int_to_vocab)\n",
    "    input_text, targets, lr = get_inputs()\n",
    "    input_data_shape = tf.shape(input_text)\n",
    "    cell, initial_state = get_init_cell(input_data_shape[0], rnn_size)\n",
    "    logits, final_state = build_nn(cell, rnn_size, input_text, vocab_size, embed_dim)\n",
    "\n",
    "    # Probabilities for generating words\n",
    "    probs = tf.nn.softmax(logits, name='probs')\n",
    "\n",
    "    # Loss function\n",
    "    cost = seq2seq.sequence_loss(\n",
    "        logits,\n",
    "        targets,\n",
    "        tf.ones([input_data_shape[0], input_data_shape[1]]))\n",
    "\n",
    "    # Optimizer\n",
    "    optimizer = tf.train.AdamOptimizer(lr)\n",
    "\n",
    "    # Gradient Clipping\n",
    "    gradients = optimizer.compute_gradients(cost)\n",
    "    capped_gradients = [(tf.clip_by_value(grad, -1., 1.), var) for grad, var in gradients if grad is not None]\n",
    "    train_op = optimizer.apply_gradients(capped_gradients)"
   ]
  },
  {
   "cell_type": "markdown",
   "metadata": {},
   "source": [
    "## Train\n",
    "Train the neural network on the preprocessed data.  If you have a hard time getting a good loss, check the [forums](https://discussions.udacity.com/) to see if anyone is having the same problem."
   ]
  },
  {
   "cell_type": "code",
   "execution_count": 21,
   "metadata": {},
   "outputs": [
    {
     "name": "stdout",
     "output_type": "stream",
     "text": [
      "Epoch   0 Batch    0/20   train_loss = 8.821\n",
      "Epoch   0 Batch   10/20   train_loss = 6.793\n",
      "Epoch   1 Batch    0/20   train_loss = 6.817\n",
      "Epoch   1 Batch   10/20   train_loss = 6.091\n",
      "Epoch   2 Batch    0/20   train_loss = 6.333\n",
      "Epoch   2 Batch   10/20   train_loss = 6.208\n",
      "Epoch   3 Batch    0/20   train_loss = 6.324\n",
      "Epoch   3 Batch   10/20   train_loss = 6.117\n",
      "Epoch   4 Batch    0/20   train_loss = 6.270\n",
      "Epoch   4 Batch   10/20   train_loss = 6.080\n",
      "Epoch   5 Batch    0/20   train_loss = 6.204\n",
      "Epoch   5 Batch   10/20   train_loss = 5.967\n",
      "Epoch   6 Batch    0/20   train_loss = 6.090\n",
      "Epoch   6 Batch   10/20   train_loss = 5.886\n",
      "Epoch   7 Batch    0/20   train_loss = 6.011\n",
      "Epoch   7 Batch   10/20   train_loss = 5.788\n",
      "Epoch   8 Batch    0/20   train_loss = 5.941\n",
      "Epoch   8 Batch   10/20   train_loss = 5.783\n",
      "Epoch   9 Batch    0/20   train_loss = 5.931\n",
      "Epoch   9 Batch   10/20   train_loss = 5.652\n",
      "Epoch  10 Batch    0/20   train_loss = 5.676\n",
      "Epoch  10 Batch   10/20   train_loss = 5.378\n",
      "Epoch  11 Batch    0/20   train_loss = 5.337\n",
      "Epoch  11 Batch   10/20   train_loss = 5.048\n",
      "Epoch  12 Batch    0/20   train_loss = 5.140\n",
      "Epoch  12 Batch   10/20   train_loss = 4.835\n",
      "Epoch  13 Batch    0/20   train_loss = 4.914\n",
      "Epoch  13 Batch   10/20   train_loss = 4.647\n",
      "Epoch  14 Batch    0/20   train_loss = 4.735\n",
      "Epoch  14 Batch   10/20   train_loss = 4.519\n",
      "Epoch  15 Batch    0/20   train_loss = 4.631\n",
      "Epoch  15 Batch   10/20   train_loss = 4.442\n",
      "Epoch  16 Batch    0/20   train_loss = 4.482\n",
      "Epoch  16 Batch   10/20   train_loss = 4.265\n",
      "Epoch  17 Batch    0/20   train_loss = 4.301\n",
      "Epoch  17 Batch   10/20   train_loss = 4.123\n",
      "Epoch  18 Batch    0/20   train_loss = 4.173\n",
      "Epoch  18 Batch   10/20   train_loss = 3.968\n",
      "Epoch  19 Batch    0/20   train_loss = 4.039\n",
      "Epoch  19 Batch   10/20   train_loss = 3.835\n",
      "Epoch  20 Batch    0/20   train_loss = 3.889\n",
      "Epoch  20 Batch   10/20   train_loss = 3.770\n",
      "Epoch  21 Batch    0/20   train_loss = 3.779\n",
      "Epoch  21 Batch   10/20   train_loss = 3.636\n",
      "Epoch  22 Batch    0/20   train_loss = 3.645\n",
      "Epoch  22 Batch   10/20   train_loss = 3.543\n",
      "Epoch  23 Batch    0/20   train_loss = 3.567\n",
      "Epoch  23 Batch   10/20   train_loss = 3.425\n",
      "Epoch  24 Batch    0/20   train_loss = 3.380\n",
      "Epoch  24 Batch   10/20   train_loss = 3.284\n",
      "Epoch  25 Batch    0/20   train_loss = 3.255\n",
      "Epoch  25 Batch   10/20   train_loss = 3.119\n",
      "Epoch  26 Batch    0/20   train_loss = 3.130\n",
      "Epoch  26 Batch   10/20   train_loss = 3.032\n",
      "Epoch  27 Batch    0/20   train_loss = 3.006\n",
      "Epoch  27 Batch   10/20   train_loss = 2.868\n",
      "Epoch  28 Batch    0/20   train_loss = 2.916\n",
      "Epoch  28 Batch   10/20   train_loss = 2.779\n",
      "Epoch  29 Batch    0/20   train_loss = 2.765\n",
      "Epoch  29 Batch   10/20   train_loss = 2.685\n",
      "Epoch  30 Batch    0/20   train_loss = 2.689\n",
      "Epoch  30 Batch   10/20   train_loss = 2.569\n",
      "Epoch  31 Batch    0/20   train_loss = 2.614\n",
      "Epoch  31 Batch   10/20   train_loss = 2.445\n",
      "Epoch  32 Batch    0/20   train_loss = 2.480\n",
      "Epoch  32 Batch   10/20   train_loss = 2.335\n",
      "Epoch  33 Batch    0/20   train_loss = 2.378\n",
      "Epoch  33 Batch   10/20   train_loss = 2.261\n",
      "Epoch  34 Batch    0/20   train_loss = 2.295\n",
      "Epoch  34 Batch   10/20   train_loss = 2.187\n",
      "Epoch  35 Batch    0/20   train_loss = 2.192\n",
      "Epoch  35 Batch   10/20   train_loss = 2.142\n",
      "Epoch  36 Batch    0/20   train_loss = 2.154\n",
      "Epoch  36 Batch   10/20   train_loss = 2.041\n",
      "Epoch  37 Batch    0/20   train_loss = 2.073\n",
      "Epoch  37 Batch   10/20   train_loss = 2.021\n",
      "Epoch  38 Batch    0/20   train_loss = 2.085\n",
      "Epoch  38 Batch   10/20   train_loss = 1.963\n",
      "Epoch  39 Batch    0/20   train_loss = 1.979\n",
      "Epoch  39 Batch   10/20   train_loss = 1.864\n",
      "Epoch  40 Batch    0/20   train_loss = 1.886\n",
      "Epoch  40 Batch   10/20   train_loss = 1.844\n",
      "Epoch  41 Batch    0/20   train_loss = 1.765\n",
      "Epoch  41 Batch   10/20   train_loss = 1.742\n",
      "Epoch  42 Batch    0/20   train_loss = 1.702\n",
      "Epoch  42 Batch   10/20   train_loss = 1.640\n",
      "Epoch  43 Batch    0/20   train_loss = 1.620\n",
      "Epoch  43 Batch   10/20   train_loss = 1.603\n",
      "Epoch  44 Batch    0/20   train_loss = 1.586\n",
      "Epoch  44 Batch   10/20   train_loss = 1.556\n",
      "Epoch  45 Batch    0/20   train_loss = 1.516\n",
      "Epoch  45 Batch   10/20   train_loss = 1.471\n",
      "Epoch  46 Batch    0/20   train_loss = 1.430\n",
      "Epoch  46 Batch   10/20   train_loss = 1.382\n",
      "Epoch  47 Batch    0/20   train_loss = 1.341\n",
      "Epoch  47 Batch   10/20   train_loss = 1.309\n",
      "Epoch  48 Batch    0/20   train_loss = 1.274\n",
      "Epoch  48 Batch   10/20   train_loss = 1.253\n",
      "Epoch  49 Batch    0/20   train_loss = 1.200\n",
      "Epoch  49 Batch   10/20   train_loss = 1.157\n",
      "Epoch  50 Batch    0/20   train_loss = 1.132\n",
      "Epoch  50 Batch   10/20   train_loss = 1.147\n",
      "Epoch  51 Batch    0/20   train_loss = 1.090\n",
      "Epoch  51 Batch   10/20   train_loss = 1.073\n",
      "Epoch  52 Batch    0/20   train_loss = 1.079\n",
      "Epoch  52 Batch   10/20   train_loss = 1.087\n",
      "Epoch  53 Batch    0/20   train_loss = 1.025\n",
      "Epoch  53 Batch   10/20   train_loss = 1.033\n",
      "Epoch  54 Batch    0/20   train_loss = 0.987\n",
      "Epoch  54 Batch   10/20   train_loss = 0.970\n",
      "Epoch  55 Batch    0/20   train_loss = 0.928\n",
      "Epoch  55 Batch   10/20   train_loss = 0.930\n",
      "Epoch  56 Batch    0/20   train_loss = 0.900\n",
      "Epoch  56 Batch   10/20   train_loss = 0.905\n",
      "Epoch  57 Batch    0/20   train_loss = 0.870\n",
      "Epoch  57 Batch   10/20   train_loss = 0.859\n",
      "Epoch  58 Batch    0/20   train_loss = 0.813\n",
      "Epoch  58 Batch   10/20   train_loss = 0.816\n",
      "Epoch  59 Batch    0/20   train_loss = 0.815\n",
      "Epoch  59 Batch   10/20   train_loss = 0.793\n",
      "Epoch  60 Batch    0/20   train_loss = 0.770\n",
      "Epoch  60 Batch   10/20   train_loss = 0.772\n",
      "Epoch  61 Batch    0/20   train_loss = 0.752\n",
      "Epoch  61 Batch   10/20   train_loss = 0.732\n",
      "Epoch  62 Batch    0/20   train_loss = 0.714\n",
      "Epoch  62 Batch   10/20   train_loss = 0.710\n",
      "Epoch  63 Batch    0/20   train_loss = 0.692\n",
      "Epoch  63 Batch   10/20   train_loss = 0.672\n",
      "Epoch  64 Batch    0/20   train_loss = 0.651\n",
      "Epoch  64 Batch   10/20   train_loss = 0.635\n",
      "Epoch  65 Batch    0/20   train_loss = 0.641\n",
      "Epoch  65 Batch   10/20   train_loss = 0.619\n",
      "Epoch  66 Batch    0/20   train_loss = 0.623\n",
      "Epoch  66 Batch   10/20   train_loss = 0.606\n",
      "Epoch  67 Batch    0/20   train_loss = 0.584\n",
      "Epoch  67 Batch   10/20   train_loss = 0.591\n",
      "Epoch  68 Batch    0/20   train_loss = 0.577\n",
      "Epoch  68 Batch   10/20   train_loss = 0.551\n",
      "Epoch  69 Batch    0/20   train_loss = 0.554\n",
      "Epoch  69 Batch   10/20   train_loss = 0.523\n",
      "Epoch  70 Batch    0/20   train_loss = 0.499\n",
      "Epoch  70 Batch   10/20   train_loss = 0.515\n",
      "Epoch  71 Batch    0/20   train_loss = 0.505\n",
      "Epoch  71 Batch   10/20   train_loss = 0.495\n",
      "Epoch  72 Batch    0/20   train_loss = 0.477\n",
      "Epoch  72 Batch   10/20   train_loss = 0.457\n",
      "Epoch  73 Batch    0/20   train_loss = 0.452\n",
      "Epoch  73 Batch   10/20   train_loss = 0.460\n",
      "Epoch  74 Batch    0/20   train_loss = 0.426\n",
      "Epoch  74 Batch   10/20   train_loss = 0.437\n",
      "Epoch  75 Batch    0/20   train_loss = 0.426\n",
      "Epoch  75 Batch   10/20   train_loss = 0.427\n",
      "Epoch  76 Batch    0/20   train_loss = 0.431\n",
      "Epoch  76 Batch   10/20   train_loss = 0.451\n",
      "Epoch  77 Batch    0/20   train_loss = 0.407\n",
      "Epoch  77 Batch   10/20   train_loss = 0.420\n",
      "Epoch  78 Batch    0/20   train_loss = 0.437\n",
      "Epoch  78 Batch   10/20   train_loss = 0.415\n",
      "Epoch  79 Batch    0/20   train_loss = 0.384\n",
      "Epoch  79 Batch   10/20   train_loss = 0.404\n",
      "Epoch  80 Batch    0/20   train_loss = 0.385\n",
      "Epoch  80 Batch   10/20   train_loss = 0.389\n",
      "Epoch  81 Batch    0/20   train_loss = 0.359\n",
      "Epoch  81 Batch   10/20   train_loss = 0.377\n",
      "Epoch  82 Batch    0/20   train_loss = 0.362\n",
      "Epoch  82 Batch   10/20   train_loss = 0.367\n",
      "Epoch  83 Batch    0/20   train_loss = 0.339\n",
      "Epoch  83 Batch   10/20   train_loss = 0.351\n",
      "Epoch  84 Batch    0/20   train_loss = 0.329\n",
      "Epoch  84 Batch   10/20   train_loss = 0.346\n",
      "Epoch  85 Batch    0/20   train_loss = 0.314\n",
      "Epoch  85 Batch   10/20   train_loss = 0.344\n",
      "Epoch  86 Batch    0/20   train_loss = 0.313\n",
      "Epoch  86 Batch   10/20   train_loss = 0.337\n",
      "Epoch  87 Batch    0/20   train_loss = 0.315\n",
      "Epoch  87 Batch   10/20   train_loss = 0.342\n",
      "Epoch  88 Batch    0/20   train_loss = 0.323\n",
      "Epoch  88 Batch   10/20   train_loss = 0.330\n",
      "Epoch  89 Batch    0/20   train_loss = 0.304\n",
      "Epoch  89 Batch   10/20   train_loss = 0.326\n",
      "Epoch  90 Batch    0/20   train_loss = 0.280\n",
      "Epoch  90 Batch   10/20   train_loss = 0.303\n",
      "Epoch  91 Batch    0/20   train_loss = 0.275\n"
     ]
    },
    {
     "name": "stdout",
     "output_type": "stream",
     "text": [
      "Epoch  91 Batch   10/20   train_loss = 0.294\n",
      "Epoch  92 Batch    0/20   train_loss = 0.263\n",
      "Epoch  92 Batch   10/20   train_loss = 0.290\n",
      "Epoch  93 Batch    0/20   train_loss = 0.269\n",
      "Epoch  93 Batch   10/20   train_loss = 0.293\n",
      "Epoch  94 Batch    0/20   train_loss = 0.258\n",
      "Epoch  94 Batch   10/20   train_loss = 0.266\n",
      "Epoch  95 Batch    0/20   train_loss = 0.253\n",
      "Epoch  95 Batch   10/20   train_loss = 0.249\n",
      "Epoch  96 Batch    0/20   train_loss = 0.229\n",
      "Epoch  96 Batch   10/20   train_loss = 0.242\n",
      "Epoch  97 Batch    0/20   train_loss = 0.227\n",
      "Epoch  97 Batch   10/20   train_loss = 0.241\n",
      "Epoch  98 Batch    0/20   train_loss = 0.231\n",
      "Epoch  98 Batch   10/20   train_loss = 0.241\n",
      "Epoch  99 Batch    0/20   train_loss = 0.226\n",
      "Epoch  99 Batch   10/20   train_loss = 0.243\n",
      "Epoch 100 Batch    0/20   train_loss = 0.224\n",
      "Epoch 100 Batch   10/20   train_loss = 0.243\n",
      "Epoch 101 Batch    0/20   train_loss = 0.230\n",
      "Epoch 101 Batch   10/20   train_loss = 0.230\n",
      "Epoch 102 Batch    0/20   train_loss = 0.208\n",
      "Epoch 102 Batch   10/20   train_loss = 0.216\n",
      "Epoch 103 Batch    0/20   train_loss = 0.194\n",
      "Epoch 103 Batch   10/20   train_loss = 0.205\n",
      "Epoch 104 Batch    0/20   train_loss = 0.185\n",
      "Epoch 104 Batch   10/20   train_loss = 0.200\n",
      "Epoch 105 Batch    0/20   train_loss = 0.183\n",
      "Epoch 105 Batch   10/20   train_loss = 0.192\n",
      "Epoch 106 Batch    0/20   train_loss = 0.175\n",
      "Epoch 106 Batch   10/20   train_loss = 0.178\n",
      "Epoch 107 Batch    0/20   train_loss = 0.151\n",
      "Epoch 107 Batch   10/20   train_loss = 0.162\n",
      "Epoch 108 Batch    0/20   train_loss = 0.145\n",
      "Epoch 108 Batch   10/20   train_loss = 0.149\n",
      "Epoch 109 Batch    0/20   train_loss = 0.133\n",
      "Epoch 109 Batch   10/20   train_loss = 0.140\n",
      "Epoch 110 Batch    0/20   train_loss = 0.126\n",
      "Epoch 110 Batch   10/20   train_loss = 0.135\n",
      "Epoch 111 Batch    0/20   train_loss = 0.115\n",
      "Epoch 111 Batch   10/20   train_loss = 0.123\n",
      "Epoch 112 Batch    0/20   train_loss = 0.098\n",
      "Epoch 112 Batch   10/20   train_loss = 0.107\n",
      "Epoch 113 Batch    0/20   train_loss = 0.094\n",
      "Epoch 113 Batch   10/20   train_loss = 0.102\n",
      "Epoch 114 Batch    0/20   train_loss = 0.089\n",
      "Epoch 114 Batch   10/20   train_loss = 0.102\n",
      "Epoch 115 Batch    0/20   train_loss = 0.082\n",
      "Epoch 115 Batch   10/20   train_loss = 0.094\n",
      "Epoch 116 Batch    0/20   train_loss = 0.077\n",
      "Epoch 116 Batch   10/20   train_loss = 0.090\n",
      "Epoch 117 Batch    0/20   train_loss = 0.074\n",
      "Epoch 117 Batch   10/20   train_loss = 0.083\n",
      "Epoch 118 Batch    0/20   train_loss = 0.068\n",
      "Epoch 118 Batch   10/20   train_loss = 0.079\n",
      "Epoch 119 Batch    0/20   train_loss = 0.066\n",
      "Epoch 119 Batch   10/20   train_loss = 0.076\n",
      "Epoch 120 Batch    0/20   train_loss = 0.065\n",
      "Epoch 120 Batch   10/20   train_loss = 0.077\n",
      "Epoch 121 Batch    0/20   train_loss = 0.064\n",
      "Epoch 121 Batch   10/20   train_loss = 0.075\n",
      "Epoch 122 Batch    0/20   train_loss = 0.062\n",
      "Epoch 122 Batch   10/20   train_loss = 0.073\n",
      "Epoch 123 Batch    0/20   train_loss = 0.060\n",
      "Epoch 123 Batch   10/20   train_loss = 0.070\n",
      "Epoch 124 Batch    0/20   train_loss = 0.058\n",
      "Epoch 124 Batch   10/20   train_loss = 0.069\n",
      "Epoch 125 Batch    0/20   train_loss = 0.057\n",
      "Epoch 125 Batch   10/20   train_loss = 0.067\n",
      "Epoch 126 Batch    0/20   train_loss = 0.056\n",
      "Epoch 126 Batch   10/20   train_loss = 0.067\n",
      "Epoch 127 Batch    0/20   train_loss = 0.055\n",
      "Epoch 127 Batch   10/20   train_loss = 0.065\n",
      "Epoch 128 Batch    0/20   train_loss = 0.054\n",
      "Epoch 128 Batch   10/20   train_loss = 0.065\n",
      "Epoch 129 Batch    0/20   train_loss = 0.054\n",
      "Epoch 129 Batch   10/20   train_loss = 0.064\n",
      "Epoch 130 Batch    0/20   train_loss = 0.053\n",
      "Epoch 130 Batch   10/20   train_loss = 0.064\n",
      "Epoch 131 Batch    0/20   train_loss = 0.053\n",
      "Epoch 131 Batch   10/20   train_loss = 0.062\n",
      "Epoch 132 Batch    0/20   train_loss = 0.052\n",
      "Epoch 132 Batch   10/20   train_loss = 0.062\n",
      "Epoch 133 Batch    0/20   train_loss = 0.052\n",
      "Epoch 133 Batch   10/20   train_loss = 0.061\n",
      "Epoch 134 Batch    0/20   train_loss = 0.051\n",
      "Epoch 134 Batch   10/20   train_loss = 0.061\n",
      "Epoch 135 Batch    0/20   train_loss = 0.051\n",
      "Epoch 135 Batch   10/20   train_loss = 0.060\n",
      "Epoch 136 Batch    0/20   train_loss = 0.050\n",
      "Epoch 136 Batch   10/20   train_loss = 0.061\n",
      "Epoch 137 Batch    0/20   train_loss = 0.051\n",
      "Epoch 137 Batch   10/20   train_loss = 0.060\n",
      "Epoch 138 Batch    0/20   train_loss = 0.050\n",
      "Epoch 138 Batch   10/20   train_loss = 0.060\n",
      "Epoch 139 Batch    0/20   train_loss = 0.050\n",
      "Epoch 139 Batch   10/20   train_loss = 0.059\n",
      "Epoch 140 Batch    0/20   train_loss = 0.049\n",
      "Epoch 140 Batch   10/20   train_loss = 0.059\n",
      "Epoch 141 Batch    0/20   train_loss = 0.049\n",
      "Epoch 141 Batch   10/20   train_loss = 0.058\n",
      "Epoch 142 Batch    0/20   train_loss = 0.049\n",
      "Epoch 142 Batch   10/20   train_loss = 0.059\n",
      "Epoch 143 Batch    0/20   train_loss = 0.049\n",
      "Epoch 143 Batch   10/20   train_loss = 0.058\n",
      "Epoch 144 Batch    0/20   train_loss = 0.048\n",
      "Epoch 144 Batch   10/20   train_loss = 0.058\n",
      "Epoch 145 Batch    0/20   train_loss = 0.048\n",
      "Epoch 145 Batch   10/20   train_loss = 0.057\n",
      "Epoch 146 Batch    0/20   train_loss = 0.048\n",
      "Epoch 146 Batch   10/20   train_loss = 0.058\n",
      "Epoch 147 Batch    0/20   train_loss = 0.048\n",
      "Epoch 147 Batch   10/20   train_loss = 0.057\n",
      "Epoch 148 Batch    0/20   train_loss = 0.047\n",
      "Epoch 148 Batch   10/20   train_loss = 0.057\n",
      "Epoch 149 Batch    0/20   train_loss = 0.048\n",
      "Epoch 149 Batch   10/20   train_loss = 0.056\n",
      "WARNING:tensorflow:Error encountered when serializing LAYER_NAME_UIDS.\n",
      "Type is unsupported, or the types of the items don't match field type in CollectionDef.\n",
      "'dict' object has no attribute 'name'\n",
      "Model Trained and Saved\n"
     ]
    }
   ],
   "source": [
    "\"\"\"\n",
    "DON'T MODIFY ANYTHING IN THIS CELL\n",
    "\"\"\"\n",
    "batches = get_batches(int_text, batch_size, seq_length)\n",
    "\n",
    "with tf.Session(graph=train_graph) as sess:\n",
    "    sess.run(tf.global_variables_initializer())\n",
    "\n",
    "    for epoch_i in range(num_epochs):\n",
    "        state = sess.run(initial_state, {input_text: batches[0][0]})\n",
    "\n",
    "        for batch_i, (x, y) in enumerate(batches):\n",
    "            feed = {\n",
    "                input_text: x,\n",
    "                targets: y,\n",
    "                initial_state: state,\n",
    "                lr: learning_rate}\n",
    "            train_loss, state, _ = sess.run([cost, final_state, train_op], feed)\n",
    "\n",
    "            # Show every <show_every_n_batches> batches\n",
    "            if (epoch_i * len(batches) + batch_i) % show_every_n_batches == 0:\n",
    "                print('Epoch {:>3} Batch {:>4}/{}   train_loss = {:.3f}'.format(\n",
    "                    epoch_i,\n",
    "                    batch_i,\n",
    "                    len(batches),\n",
    "                    train_loss))\n",
    "\n",
    "    # Save Model\n",
    "    saver = tf.train.Saver()\n",
    "    saver.save(sess, save_dir)\n",
    "    print('Model Trained and Saved')"
   ]
  },
  {
   "cell_type": "markdown",
   "metadata": {},
   "source": [
    "## Save Parameters\n",
    "Save `seq_length` and `save_dir` for generating a new TV script."
   ]
  },
  {
   "cell_type": "code",
   "execution_count": 22,
   "metadata": {},
   "outputs": [],
   "source": [
    "\"\"\"\n",
    "DON'T MODIFY ANYTHING IN THIS CELL\n",
    "\"\"\"\n",
    "# Save parameters for checkpoint\n",
    "helper.save_params((seq_length, save_dir))"
   ]
  },
  {
   "cell_type": "markdown",
   "metadata": {},
   "source": [
    "# Checkpoint"
   ]
  },
  {
   "cell_type": "code",
   "execution_count": 23,
   "metadata": {},
   "outputs": [],
   "source": [
    "\"\"\"\n",
    "DON'T MODIFY ANYTHING IN THIS CELL\n",
    "\"\"\"\n",
    "import tensorflow as tf\n",
    "import numpy as np\n",
    "import helper\n",
    "import problem_unittests as tests\n",
    "\n",
    "_, vocab_to_int, int_to_vocab, token_dict = helper.load_preprocess()\n",
    "seq_length, load_dir = helper.load_params()"
   ]
  },
  {
   "cell_type": "markdown",
   "metadata": {},
   "source": [
    "## Implement Generate Functions\n",
    "### Get Tensors\n",
    "Get tensors from `loaded_graph` using the function [`get_tensor_by_name()`](https://www.tensorflow.org/api_docs/python/tf/Graph#get_tensor_by_name).  Get the tensors using the following names:\n",
    "- \"input:0\"\n",
    "- \"initial_state:0\"\n",
    "- \"final_state:0\"\n",
    "- \"probs:0\"\n",
    "\n",
    "Return the tensors in the following tuple `(InputTensor, InitialStateTensor, FinalStateTensor, ProbsTensor)` "
   ]
  },
  {
   "cell_type": "code",
   "execution_count": 24,
   "metadata": {},
   "outputs": [
    {
     "name": "stdout",
     "output_type": "stream",
     "text": [
      "Tests Passed\n"
     ]
    }
   ],
   "source": [
    "def get_tensors(loaded_graph):\n",
    "    \"\"\"\n",
    "    Get input, initial state, final state, and probabilities tensor from <loaded_graph>\n",
    "    :param loaded_graph: TensorFlow graph loaded from file\n",
    "    :return: Tuple (InputTensor, InitialStateTensor, FinalStateTensor, ProbsTensor)\n",
    "    \"\"\"\n",
    "    # TODO: Implement Function\n",
    "    tensors = (loaded_graph.get_tensor_by_name(\"input:0\"),\n",
    "               loaded_graph.get_tensor_by_name(\"initial_state:0\"),\n",
    "               loaded_graph.get_tensor_by_name(\"final_state:0\"),\n",
    "               loaded_graph.get_tensor_by_name(\"probs:0\"))\n",
    "    return tensors              \n",
    "\n",
    "\n",
    "\"\"\"\n",
    "DON'T MODIFY ANYTHING IN THIS CELL THAT IS BELOW THIS LINE\n",
    "\"\"\"\n",
    "tests.test_get_tensors(get_tensors)"
   ]
  },
  {
   "cell_type": "markdown",
   "metadata": {},
   "source": [
    "### Choose Word\n",
    "Implement the `pick_word()` function to select the next word using `probabilities`."
   ]
  },
  {
   "cell_type": "code",
   "execution_count": 25,
   "metadata": {},
   "outputs": [
    {
     "name": "stdout",
     "output_type": "stream",
     "text": [
      "Tests Passed\n"
     ]
    }
   ],
   "source": [
    "def pick_word(probabilities, int_to_vocab):\n",
    "    \"\"\"\n",
    "    Pick the next word in the generated text\n",
    "    :param probabilities: Probabilites of the next word \n",
    "    :param int_to_vocab: Dictionary of word ids as the keys and words as the values\n",
    "    :return: String of the predicted word\n",
    "    \"\"\"\n",
    "    max_prob_ind = np.argmax(np.squeeze(probabilities))   \n",
    "    word = int_to_vocab[max_prob_ind]    \n",
    "    return word\n",
    "\n",
    "\n",
    "\"\"\"\n",
    "DON'T MODIFY ANYTHING IN THIS CELL THAT IS BELOW THIS LINE\n",
    "\"\"\"\n",
    "tests.test_pick_word(pick_word)"
   ]
  },
  {
   "cell_type": "markdown",
   "metadata": {},
   "source": [
    "## Generate TV Script\n",
    "This will generate the TV script for you.  Set `gen_length` to the length of TV script you want to generate."
   ]
  },
  {
   "cell_type": "code",
   "execution_count": 26,
   "metadata": {},
   "outputs": [
    {
     "name": "stdout",
     "output_type": "stream",
     "text": [
      "INFO:tensorflow:Restoring parameters from ./save\n",
      "moe_szyslak: oh, the heat's been on since them bush girls were in here.\n",
      "homer_simpson: all right, all right.(dejected) come on, bart.\n",
      "bart_simpson: i'm cold and scared.\n",
      "homer_simpson: that's my little slugger.\n",
      "bart_simpson: c'mon, dad.\n",
      "homer_simpson:(to homer) well, we have to learn!(sobs)\n",
      "homer_simpson: i'm gonna go home to the cops.\n",
      "carl_carlson:(beat) just a minute-- we're good to jail!(chuckle) three beers, please!\n",
      "barney_gumble: oh, god, i don't know so.\n",
      "seymour_skinner: with me?\n",
      "homer_simpson: yeah, they're italian.\n",
      "moe_szyslak:(absentminded, polishing a tune) how did you get us for you?\n",
      "moe_szyslak: what? i love you, moe.\n",
      "moe_szyslak: hey, hey, you can learn-- what was you, moe?\n",
      "moe_szyslak: ah, if you always really love you and that guy paints his noggin and you guys are gonna break up in this bar.\n",
      "homer_simpson: hey, what's the matter, homer\n"
     ]
    }
   ],
   "source": [
    "gen_length = 200\n",
    "# homer_simpson, moe_szyslak, or Barney_Gumble\n",
    "prime_word = 'moe_szyslak'\n",
    "\n",
    "\"\"\"\n",
    "DON'T MODIFY ANYTHING IN THIS CELL THAT IS BELOW THIS LINE\n",
    "\"\"\"\n",
    "loaded_graph = tf.Graph()\n",
    "with tf.Session(graph=loaded_graph) as sess:\n",
    "    # Load saved model\n",
    "    loader = tf.train.import_meta_graph(load_dir + '.meta')\n",
    "    loader.restore(sess, load_dir)\n",
    "\n",
    "    # Get Tensors from loaded model\n",
    "    input_text, initial_state, final_state, probs = get_tensors(loaded_graph)\n",
    "\n",
    "    # Sentences generation setup\n",
    "    gen_sentences = [prime_word + ':']\n",
    "    prev_state = sess.run(initial_state, {input_text: np.array([[1]])})\n",
    "\n",
    "    # Generate sentences\n",
    "    for n in range(gen_length):\n",
    "        # Dynamic Input\n",
    "        dyn_input = [[vocab_to_int[word] for word in gen_sentences[-seq_length:]]]\n",
    "        dyn_seq_length = len(dyn_input[0])\n",
    "\n",
    "        # Get Prediction\n",
    "        probabilities, prev_state = sess.run(\n",
    "            [probs, final_state],\n",
    "            {input_text: dyn_input, initial_state: prev_state})    \n",
    "        \n",
    "        # DEBUGGING\n",
    "        # try:            \n",
    "        #    probabilities[dyn_seq_length-1]  # fails when dyn_seq_length == 2        \n",
    "        # except:\n",
    "        #    print(probabilities.shape)\n",
    "        #    print(dyn_seq_length)            \n",
    "        \n",
    "        # corrected a bug in this script:\n",
    "        # probabilities[0][dyn_seq_length-1] instead of probabilities[dyn_seq_length-1]\n",
    "        # probabilities has 3 dimensions, for example (1, 2, 6779)\n",
    "        # the select shouldn't be along the 0-th axis, but 1-th\n",
    "        pred_word = pick_word(probabilities[0][dyn_seq_length-1], int_to_vocab)\n",
    "        gen_sentences.append(pred_word)\n",
    "    \n",
    "    # Remove tokens\n",
    "    tv_script = ' '.join(gen_sentences)\n",
    "    for key, token in token_dict.items():\n",
    "        ending = ' ' if key in ['\\n', '(', '\"'] else ''\n",
    "        tv_script = tv_script.replace(' ' + token.lower(), key)\n",
    "    tv_script = tv_script.replace('\\n ', '\\n')\n",
    "    tv_script = tv_script.replace('( ', '(')\n",
    "        \n",
    "    print(tv_script)"
   ]
  },
  {
   "cell_type": "markdown",
   "metadata": {},
   "source": [
    "# The TV Script is Nonsensical\n",
    "It's ok if the TV script doesn't make any sense.  We trained on less than a megabyte of text.  In order to get good results, you'll have to use a smaller vocabulary or get more data.  Luckly there's more data!  As we mentioned in the begging of this project, this is a subset of [another dataset](https://www.kaggle.com/wcukierski/the-simpsons-by-the-data).  We didn't have you train on all the data, because that would take too long.  However, you are free to train your neural network on all the data.  After you complete the project, of course.\n",
    "# Submitting This Project\n",
    "When submitting this project, make sure to run all the cells before saving the notebook. Save the notebook file as \"dlnd_tv_script_generation.ipynb\" and save it as a HTML file under \"File\" -> \"Download as\". Include the \"helper.py\" and \"problem_unittests.py\" files in your submission."
   ]
  }
 ],
 "metadata": {
  "kernelspec": {
   "display_name": "Python 3",
   "language": "python",
   "name": "python3"
  },
  "language_info": {
   "codemirror_mode": {
    "name": "ipython",
    "version": 3
   },
   "file_extension": ".py",
   "mimetype": "text/x-python",
   "name": "python",
   "nbconvert_exporter": "python",
   "pygments_lexer": "ipython3",
   "version": "3.5.2"
  },
  "widgets": {
   "state": {},
   "version": "1.1.2"
  }
 },
 "nbformat": 4,
 "nbformat_minor": 1
}
